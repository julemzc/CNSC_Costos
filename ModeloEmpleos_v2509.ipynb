{
 "cells": [
  {
   "cell_type": "markdown",
   "metadata": {},
   "source": [
    "# Red neuronal para estimar los inscritos para una convocatoria"
   ]
  },
  {
   "cell_type": "markdown",
   "metadata": {},
   "source": [
    "### Instalación de librerias"
   ]
  },
  {
   "cell_type": "code",
   "execution_count": null,
   "metadata": {},
   "outputs": [],
   "source": [
    "#pip install pandas psycopg2 sqlalchemy unidecode mlflow keras tensorflow seaborn statsmodels xlsxwriter \n",
    "#pip install streamlit, flask_restful flask_cors geopy folium"
   ]
  },
  {
   "cell_type": "code",
   "execution_count": null,
   "metadata": {},
   "outputs": [],
   "source": [
    "#!pip install -r \"C:\\\\Users\\\\jlmartinez\\\\Costos\\\\requeriments.txt\"\n",
    "#!pip install scikeras\n",
    "#!pip install sklearn\n",
    "#!pip install -U protobuf==3.20.*\n",
    "#!pip install -U pyOpenSSL\n",
    "#!pip install \"numpy<2\""
   ]
  },
  {
   "cell_type": "code",
   "execution_count": null,
   "metadata": {
    "scrolled": true
   },
   "outputs": [],
   "source": [
    "#!pip freeze\n",
    "import subprocess\n",
    "\n",
    "output = subprocess.run([\"pip\", \"freeze\"], capture_output=True, text=True)\n",
    "filtered_output = [line for line in output.stdout.splitlines() if \"==\" in line]\n",
    "print(\"\\n\".join(filtered_output))"
   ]
  },
  {
   "cell_type": "code",
   "execution_count": null,
   "metadata": {
    "scrolled": true
   },
   "outputs": [],
   "source": [
    "pip freeze > requeriments.txt"
   ]
  },
  {
   "cell_type": "code",
   "execution_count": null,
   "metadata": {
    "scrolled": true
   },
   "outputs": [],
   "source": [
    "pip install streamlit"
   ]
  },
  {
   "cell_type": "markdown",
   "metadata": {},
   "source": [
    "# \n",
    "## Librerias Generales"
   ]
  },
  {
   "cell_type": "code",
   "execution_count": null,
   "metadata": {},
   "outputs": [],
   "source": [
    "#librerias\n",
    "import io\n",
    "import pandas as pd\n",
    "import time\n",
    "from datetime import datetime\n",
    "\n",
    "# Maximo de columnas\n",
    "pd.options.display.max_columns = None\n",
    "import warnings\n",
    "warnings.filterwarnings('ignore')"
   ]
  },
  {
   "cell_type": "code",
   "execution_count": null,
   "metadata": {
    "scrolled": true
   },
   "outputs": [],
   "source": [
    "%%time\n",
    "# Importar funciones\n",
    "from src.A_Generales import lprint, load_config\n",
    "from src.B_Historico import rDatosSimo, rConvocatoriaSimo\n",
    "from src.C_RedNeuronal import fEscenarios, fEntrenamiento, fProyeccion\n",
    "from src.D_GuardarBD import fGuardarResultados\n",
    "from src.E_Resultados import fResultadosExcel, fResultadosTexto, fResultadosGraficas, rArchivoZip"
   ]
  },
  {
   "cell_type": "markdown",
   "metadata": {},
   "source": [
    "# \n",
    "# Ejecución de la red neuronal"
   ]
  },
  {
   "cell_type": "code",
   "execution_count": 5,
   "metadata": {},
   "outputs": [
    {
     "data": {
      "text/plain": [
       "15"
      ]
     },
     "execution_count": 5,
     "metadata": {},
     "output_type": "execute_result"
    }
   ],
   "source": [
    "300 // 20"
   ]
  },
  {
   "cell_type": "markdown",
   "metadata": {},
   "source": [
    "### Leer Histórico de SIMO"
   ]
  },
  {
   "cell_type": "code",
   "execution_count": null,
   "metadata": {
    "scrolled": true
   },
   "outputs": [],
   "source": [
    "%%time\n",
    "lprint(\"Inicia Pipeline \\n\\n\")\n",
    "dfEmpleo = rDatosSimo()"
   ]
  },
  {
   "cell_type": "markdown",
   "metadata": {},
   "source": [
    "### Leer los escenarios y Elaborar el diccionario"
   ]
  },
  {
   "cell_type": "markdown",
   "metadata": {},
   "source": [
    "### Realiza el entrenamiento de cada escenario"
   ]
  },
  {
   "cell_type": "code",
   "execution_count": null,
   "metadata": {
    "scrolled": true
   },
   "outputs": [],
   "source": [
    "%%time\n",
    "lprint(\"Inicio - Realizar entrenamiento de escenarios\")\n",
    "Dict = fEntrenamiento(dfEmpleo, False)"
   ]
  },
  {
   "cell_type": "code",
   "execution_count": null,
   "metadata": {},
   "outputs": [],
   "source": []
  },
  {
   "cell_type": "markdown",
   "metadata": {},
   "source": [
    "### Seleccionar convocatoria"
   ]
  },
  {
   "cell_type": "code",
   "execution_count": null,
   "metadata": {
    "scrolled": true
   },
   "outputs": [],
   "source": [
    "%%time\n",
    "id_convocatoria = 452897645\n",
    "lprint(\"Inicio - Seleccionar convocatoria a proyectar\")\n",
    "dfCostos, co = rConvocatoriaSimo(id_convocatoria)\n",
    "lprint(\"FIN de proyección de convocatoria\")"
   ]
  },
  {
   "cell_type": "markdown",
   "metadata": {},
   "source": [
    "### Realizar Proyección"
   ]
  },
  {
   "cell_type": "code",
   "execution_count": null,
   "metadata": {
    "scrolled": true
   },
   "outputs": [],
   "source": [
    "%%time\n",
    "if not dfCostos.empty:\n",
    "    lprint(f\"Inicio - Realizar proyección de convocatoria {id_convocatoria}\")\n",
    "    dfCostos, Convocatoria = fProyeccion(Dict, dfCostos)\n",
    "    lprint(\"FIN - Proyección de inscritos finalizada \\n\")\n",
    "else:\n",
    "    lprint(\"Convocatoria no seleccionada\")"
   ]
  },
  {
   "cell_type": "code",
   "execution_count": null,
   "metadata": {},
   "outputs": [],
   "source": [
    "dfCostos.shape"
   ]
  },
  {
   "cell_type": "markdown",
   "metadata": {},
   "source": [
    "### Guardar proyección en la BD"
   ]
  },
  {
   "cell_type": "code",
   "execution_count": null,
   "metadata": {
    "scrolled": true
   },
   "outputs": [],
   "source": [
    "%%time\n",
    "if not dfCostos.empty:\n",
    "    lprint(\"Inicio - Guardar resultados en la BD\")\n",
    "    dfCostos, ejecucion = fGuardarResultados(Dict, dfCostos, Convocatoria, co)\n",
    "    lprint(\"FIN - Resultados guardados en la BD \\n\")\n",
    "else:\n",
    "    lprint(\"Convocatoria no seleccionada\")"
   ]
  },
  {
   "cell_type": "markdown",
   "metadata": {},
   "source": [
    "### Exportar resultados en Excel, txt y pdf"
   ]
  },
  {
   "cell_type": "code",
   "execution_count": null,
   "metadata": {
    "scrolled": true
   },
   "outputs": [],
   "source": [
    "%%time\n",
    "# ### Exportar resultados en Excel, PDF, texto\n",
    "if not dfCostos.empty:\n",
    "    lprint(\"Inicio - Exportar resultados a Excel y PDF\")\n",
    "    nombre = load_config()['output_dir'] + 'Resultados_' + str(ejecucion)+\"_\"+time.strftime(\"%y%m%d_%H%M%S\")\n",
    "    fResultadosExcel(ejecucion, nombre)\n",
    "    fResultadosGraficas(Dict, dfEmpleo, nombre)\n",
    "    fResultadosTexto(Dict, nombre)\n",
    "    rArchivoZip(nombre)\n",
    "    lprint(f\"FIN - Resultados en Excel y PDF {nombre}\")\n",
    "else:\n",
    "    lprint(\"Convocatoria no seleccionada\")\n",
    "lprint(\"FIN del Pipeline\")"
   ]
  },
  {
   "cell_type": "code",
   "execution_count": null,
   "metadata": {},
   "outputs": [],
   "source": []
  },
  {
   "cell_type": "code",
   "execution_count": null,
   "metadata": {},
   "outputs": [],
   "source": [
    "base0 = Dict['Escena61']['dfModelo']\n",
    "base1 = pd.concat([Dict['Escena61']['DatosX'], pd.DataFrame(Dict['Escena61']['DatosY'], columns=['inscritos'])], axis=1)\n",
    "base2 = pd.DataFrame(Dict['Escena61']['X'], columns=['smmlv', 'vacantes', 'concurso_ascenso_False', 'concurso_ascenso_True',\n",
    "       'reqs_estudio', 'reqs_estudio_DOCTORADO',\n",
    "       'reqs_estudio_ESPECIALIZACION PROFESIONAL', 'reqs_estudio_MAESTRIA',\n",
    "       'reqs_estudio_PROFESIONAL', 'reqs_estudio_TECNICO PROFESIONAL',\n",
    "       'reqs_estudio_TECNOLOGICO', 'nivel', 'nivel_ASISTENCIAL',\n",
    "       'nivel_PROFESIONAL', 'nivel_TECNICO'])\n",
    "\n",
    "with pd.ExcelWriter(\"EjemploDatos.xlsx\", engine=\"xlsxwriter\") as writer:\n",
    "    base0.to_excel(writer, sheet_name=\"BASE0\", index=False)\n",
    "    base1.to_excel(writer, sheet_name=\"BASE1\", index=False)\n",
    "    base2.to_excel(writer, sheet_name=\"BASE2\", index=False)\n",
    "    pd.DataFrame(Dict['Escena61']['Y']).to_excel(writer, sheet_name=\"Y\", index=False)"
   ]
  },
  {
   "cell_type": "markdown",
   "metadata": {},
   "source": [
    "# \n",
    "# \n",
    "### Convocatorias por Excel"
   ]
  },
  {
   "cell_type": "markdown",
   "metadata": {},
   "source": [
    "#### Min Trabajo"
   ]
  },
  {
   "cell_type": "code",
   "execution_count": null,
   "metadata": {},
   "outputs": [],
   "source": [
    "carpeta = r\"D:\\OneDrive - COMISIÓN NACIONAL DEL SERVICIO CIVIL\\B.ProyeccionRedesNeuronales\\Pruebas MinTrabajo\\\\\"\n",
    "filtro = \"Reporte OPEC 4.0 Ministerio de trabajo 13-03-2024.xlsx\"\n",
    "dfExcel = fLeerExcel(carpeta,filtro,'BASE',0)\n",
    "dfExcel.tail(3)"
   ]
  },
  {
   "cell_type": "code",
   "execution_count": null,
   "metadata": {
    "scrolled": true
   },
   "outputs": [],
   "source": [
    "# dfConv = dfExcel[['no_emp_simo','vacantes','municipio']]\n",
    "# dfConv = dfConv.rename(columns={'no_emp_simo':'empleo_id','municipio':'cod_dane'})\n",
    "# dfConv = dfConv.groupby(['empleo_id']).sum()[['vacantes']].reset_index()\n",
    "# dfConv"
   ]
  },
  {
   "cell_type": "code",
   "execution_count": null,
   "metadata": {},
   "outputs": [],
   "source": [
    "dfCostos = bdConvocatoriaExcel(dfExcel)\n",
    "dfCostos = dfCostos.rename(columns={'cod_dane':'dane_entidad','xcod_dane':'cod_dane'})\n",
    "\n",
    "dfMuni = bdMunicipio()\n",
    "dfMuni = dfMuni.rename(columns={'categoria':'mun_categoria'})\n",
    "dfMuni = dfMuni[['cod_dane','mun_categoria']]\n",
    "\n",
    "dfCostos = pd.merge(dfCostos,dfMuni,on='cod_dane',how='left')"
   ]
  },
  {
   "cell_type": "markdown",
   "metadata": {
    "jp-MarkdownHeadingCollapsed": true
   },
   "source": [
    "# \n",
    "# \n",
    "## Anteriores Convocatorias"
   ]
  },
  {
   "cell_type": "markdown",
   "metadata": {},
   "source": [
    "#### Contraloria por excel"
   ]
  },
  {
   "cell_type": "code",
   "execution_count": null,
   "metadata": {},
   "outputs": [],
   "source": [
    "carpeta = r\"D:\\OneDrive - COMISIÓN NACIONAL DEL SERVICIO CIVIL\\C.Costos_ProyeccionRedesNeuronales\\Pruebas Contralorias\\\\\"\n",
    "filtro = \"Contralorias_20230620.xlsx\"\n",
    "dfConv = fLeer_excel(carpeta,filtro,'BASE',0)"
   ]
  },
  {
   "cell_type": "markdown",
   "metadata": {},
   "source": [
    "#### EON noviembre"
   ]
  },
  {
   "cell_type": "code",
   "execution_count": null,
   "metadata": {},
   "outputs": [],
   "source": [
    "carpeta = r\"D:\\OneDrive - COMISIÓN NACIONAL DEL SERVICIO CIVIL\\C.Costos_ProyeccionRedesNeuronales\\Pruebas EON\\\\\"\n",
    "filtro = \"2. OPEC ENTIDADES ORDEN NACIONAL 31102023 - CON MINTIC.xlsx\"\n",
    "dfConv = fLeer_excel(carpeta,filtro,'EON',0)"
   ]
  },
  {
   "cell_type": "markdown",
   "metadata": {},
   "source": [
    "#### Neiva"
   ]
  },
  {
   "cell_type": "code",
   "execution_count": null,
   "metadata": {},
   "outputs": [],
   "source": [
    "carpeta = r\"D:\\OneDrive - COMISIÓN NACIONAL DEL SERVICIO CIVIL\\C.Costos_ProyeccionRedesNeuronales\\Pruebas Neiva\\\\\"\n",
    "filtro = \"2023-06-01_Reporte OPEC Neiva GLPI.xlsx\"\n",
    "dfConv = fLeer_excel(carpeta,filtro,'BASE',0)"
   ]
  },
  {
   "cell_type": "markdown",
   "metadata": {},
   "source": [
    "#### Aeronautica (Excel)"
   ]
  },
  {
   "cell_type": "code",
   "execution_count": null,
   "metadata": {},
   "outputs": [],
   "source": [
    "carpeta = r\"D:\\OneDrive - COMISIÓN NACIONAL DEL SERVICIO CIVIL\\C.Costos_ProyeccionRedesNeuronales\\Pruebas Aerocivil\\\\\"\n",
    "filtro = \"BaseAeronauticaCivil.xlsx\"\n",
    "dfCostos = fLeer_excel(carpeta,filtro,'BASE',0)"
   ]
  },
  {
   "cell_type": "markdown",
   "metadata": {},
   "source": [
    "#### DIAN (Excel)"
   ]
  },
  {
   "cell_type": "code",
   "execution_count": null,
   "metadata": {},
   "outputs": [],
   "source": [
    "carpeta = r\"D:\\OneDrive - COMISIÓN NACIONAL DEL SERVICIO CIVIL\\C.Costos_ProyeccionRedesNeuronales\\Prueba DIAN\\\\\"\n",
    "cArchivo = \"opec.xlsx\"\n",
    "dfCostos = fLeer_excel(carpeta,cArchivo,'BASE',0)"
   ]
  },
  {
   "cell_type": "markdown",
   "metadata": {},
   "source": [
    "#### CNSC (Excel)"
   ]
  },
  {
   "cell_type": "code",
   "execution_count": null,
   "metadata": {},
   "outputs": [],
   "source": [
    "carpeta = r\"D:\\OneDrive - COMISIÓN NACIONAL DEL SERVICIO CIVIL\\C.Costos_ProyeccionRedesNeuronales\\Pruebas CNSC\\\\\"\n",
    "filtro = \"EmpleosCNSC.xlsx\"\n",
    "dfConv = fLeer_excel(carpeta,filtro,'BASE',0)"
   ]
  },
  {
   "cell_type": "markdown",
   "metadata": {},
   "source": [
    "#### Combinar con Experiencia y municipios"
   ]
  },
  {
   "cell_type": "code",
   "execution_count": null,
   "metadata": {},
   "outputs": [],
   "source": [
    "dfExp2 = bdEmpleoExperiencia()\n",
    "dfCostos = pd.merge(dfCostos,dfExp2, on = 'empleo_id', how= 'inner')\n",
    "\n",
    "dfMuni = bdMunicipio()\n",
    "dfMuni = dfMuni.rename(columns={'categoria':'mun_categoria'})\n",
    "dfMuni = dfMuni[['cod_dane','mun_categoria']]\n",
    "\n",
    "dfCostos = pd.merge(dfCostos,dfMuni,on='cod_dane',how='left')"
   ]
  },
  {
   "cell_type": "markdown",
   "metadata": {},
   "source": [
    "#### Proyección Distrito 6"
   ]
  },
  {
   "cell_type": "code",
   "execution_count": null,
   "metadata": {},
   "outputs": [],
   "source": [
    "%%time\n",
    "empleos = dfExcel['empleo_id'].to_list()\n",
    "filtro = f\" empleo_id in ({', '.join(map(str, empleos))}) \"\n",
    "if True:\n",
    "    dfConv = bdConvocatoriaSimo(filtro)\n",
    "    dfExp2 = bdEmpleoExperiencia()\n",
    "    dfCostos = pd.merge(dfConv,dfExp2, on = 'empleo_id', how= 'inner')"
   ]
  },
  {
   "cell_type": "markdown",
   "metadata": {},
   "source": [
    "#### Proyección de  (Distrito 5)"
   ]
  },
  {
   "cell_type": "code",
   "execution_count": null,
   "metadata": {
    "scrolled": true
   },
   "outputs": [],
   "source": [
    "if False:\n",
    "    i = dfCostos[dfCostos['cod_dane']!=11001.0].index[0]\n",
    "    dfCostos.loc[i,'cod_dane'] = 11001.0\n",
    "    dfCostos.loc[i,'mun_categoria'] = 7\n",
    "    print(i)\n",
    "    dfCostos.loc[i]"
   ]
  },
  {
   "cell_type": "markdown",
   "metadata": {},
   "source": [
    "#### Convocatoria Superintendencias"
   ]
  },
  {
   "cell_type": "code",
   "execution_count": null,
   "metadata": {},
   "outputs": [],
   "source": [
    "%%time\n",
    "filtro = \"\"\" conv_id in (542826305,542826475,544389377,544389630,555496146,555697417,555697586,562145401,562145491,645785181,651454242,651454463,660546105,660546305)\n",
    "\"\"\"\n",
    "dfConv = bdConvocatoriaSimo(filtro)\n",
    "dfExp2 = bdEmpleoExperiencia()\n",
    "dfCostos = pd.merge(dfConv,dfExp2, on = 'empleo_id', how= 'inner')\n"
   ]
  },
  {
   "cell_type": "markdown",
   "metadata": {},
   "source": [
    "#### Corregir Municipio No Aplica"
   ]
  },
  {
   "cell_type": "code",
   "execution_count": null,
   "metadata": {},
   "outputs": [],
   "source": [
    "dfCostos[dfCostos['municipio']=='No_Aplica']"
   ]
  },
  {
   "cell_type": "code",
   "execution_count": null,
   "metadata": {},
   "outputs": [],
   "source": [
    "if True:\n",
    "    datosMun = [[660729334,19001,2],[661940241,52001,1],[660729360,5001,0],\n",
    "                [645791377,70001,2],[660729266,70001,2],[661938903,70001,2]]\n",
    "    for dm in datosMun:\n",
    "        i = dfCostos[dfCostos['vac_id']==dm[0]].index[0]\n",
    "        dfCostos.loc[i,'cod_dane'] = dm[1]\n",
    "        dfCostos.loc[i,'mun_categoria'] = dm[2]"
   ]
  },
  {
   "cell_type": "markdown",
   "metadata": {},
   "source": [
    "# \n",
    "# \n",
    "# "
   ]
  },
  {
   "cell_type": "code",
   "execution_count": null,
   "metadata": {},
   "outputs": [],
   "source": [
    "# model.evaluate(test_data, test_targets, verbose= 0)\n",
    "\n",
    "# resultado = model.predict(test_data[0:5]).flatten()\n",
    "# pd.DataFrame(resultado.astype(int), columns=['Res']) "
   ]
  },
  {
   "cell_type": "code",
   "execution_count": null,
   "metadata": {},
   "outputs": [],
   "source": [
    "import matplotlib.pyplot as plt\n",
    "from matplotlib.backends.backend_pdf import PdfPages\n",
    "import time\n",
    "import sys\n",
    "import seaborn as sns\n",
    "import statsmodels.formula.api as sm\n",
    "from sklearn.metrics import r2_score, mean_squared_error, mean_absolute_error, mean_squared_log_error\n",
    "from math import sqrt, isnan"
   ]
  },
  {
   "cell_type": "code",
   "execution_count": null,
   "metadata": {},
   "outputs": [],
   "source": [
    "import gc\n",
    "gc.collect()"
   ]
  },
  {
   "cell_type": "markdown",
   "metadata": {},
   "source": [
    "## Visualización de resultados"
   ]
  },
  {
   "cell_type": "code",
   "execution_count": null,
   "metadata": {},
   "outputs": [],
   "source": [
    "for e in Dict:\n",
    "    print(e)\n",
    "\n",
    "escena = list(Dict.keys())[0]\n",
    "Dict[escena]['dfModelo'].tail()"
   ]
  },
  {
   "cell_type": "markdown",
   "metadata": {},
   "source": [
    "#### Descripción de resultados"
   ]
  },
  {
   "cell_type": "code",
   "execution_count": null,
   "metadata": {
    "scrolled": true
   },
   "outputs": [],
   "source": [
    "#dfModelo['inscritos'] = np.where(( dfModelo['inscritos'].mean() < dfModelo['inscritos']),1,dfModelo.inscritos)\n",
    "#dfModelo['inscritos'] = round((dfModelo['inscritos'] / maximo)*100)"
   ]
  },
  {
   "cell_type": "markdown",
   "metadata": {},
   "source": [
    "#### Evaluación de Datos de Prueba y de Entrenamiento"
   ]
  },
  {
   "cell_type": "code",
   "execution_count": null,
   "metadata": {
    "scrolled": true
   },
   "outputs": [],
   "source": [
    "for e in Dict:\n",
    "    for i, hist in enumerate(Dict[e]['Historico']):\n",
    "        print(\"\\n\",Dict[e]['Filtro'],\" - # Neuronas: \")\n",
    "        print(\"Evaluar datos de Prueba:\")\n",
    "        print(hist['model'].evaluate(Dict[e]['test_data'], Dict[e]['test_targets']),\"\\n\")\n",
    "        print(\"Evaluar datos de Entrenamiento:\")\n",
    "        print(hist['model'].evaluate(Dict[e]['train_data'], Dict[e]['train_targets']),\"\\n\")"
   ]
  },
  {
   "cell_type": "code",
   "execution_count": null,
   "metadata": {
    "scrolled": true
   },
   "outputs": [],
   "source": [
    "dfCorr = dfEmpleo\n",
    "plt.figure(figsize=(8,8))\n",
    "sns.set(font_scale=1)\n",
    "etiquetas = dfCorr.corr().columns.tolist()\n",
    "hm = sns.heatmap(dfCorr.corr().to_numpy(),\n",
    "                 cbar=False,\n",
    "                 annot=True,\n",
    "                 square=True,\n",
    "                 fmt='.2f',\n",
    "                 annot_kws={'size': 10},\n",
    "                 yticklabels=etiquetas,\n",
    "                 xticklabels=etiquetas)\n",
    "hm.set_title('SIMO', fontsize =12)"
   ]
  },
  {
   "cell_type": "code",
   "execution_count": null,
   "metadata": {
    "scrolled": true
   },
   "outputs": [],
   "source": [
    "for e in Dict:\n",
    "    etiquetas = Dict[e]['dfModelo'].columns.tolist()\n",
    "    dfCorr = Dict[e]['dfModelo']\n",
    "    plt.figure(figsize=(3,3))\n",
    "    sns.set(font_scale=1)\n",
    "    hm = sns.heatmap(dfCorr.corr().to_numpy(),\n",
    "                     cbar=False,\n",
    "                     annot=True,\n",
    "                     square=True,\n",
    "                     fmt='.2f',\n",
    "                     annot_kws={'size': 10},\n",
    "                     yticklabels=etiquetas,\n",
    "                     xticklabels=etiquetas)\n",
    "    hm.set_title(Dict[e]['Filtro'], fontsize =16)"
   ]
  },
  {
   "cell_type": "code",
   "execution_count": null,
   "metadata": {},
   "outputs": [],
   "source": [
    "miRango = dfEmpleo[['entidad','nivel','municipio','va_inscritos','vacantes','mun_categoria']]\n",
    "miRango = miRango[~miRango['nivel'].isin(['Instructor','Directivo'])]\n",
    "miRango = miRango[miRango['va_inscritos'].between(miRango['va_inscritos'].quantile(0), miRango['va_inscritos'].quantile(0.95), inclusive = True)]\n",
    "sns.pairplot(miRango, hue = str('mun_categoria'))\n",
    "print(miRango.shape)"
   ]
  },
  {
   "cell_type": "code",
   "execution_count": null,
   "metadata": {},
   "outputs": [],
   "source": [
    "for e in Dict:\n",
    "    miRango = Dict[e]['dfEscenario'][['smmlv','nivel','vacantes','va_inscritos']]\n",
    "    miRango = miRango[miRango['va_inscritos'].between(miRango['va_inscritos'].quantile(0), miRango['va_inscritos'].quantile(1), inclusive = True)]\n",
    "    sns.pairplot(miRango, hue = 'nivel')\n",
    "    print(Dict[e]['Filtro'], miRango.shape)"
   ]
  },
  {
   "cell_type": "code",
   "execution_count": null,
   "metadata": {
    "scrolled": true
   },
   "outputs": [],
   "source": [
    "for e in Dict:\n",
    "    miRango = Dict[e]['dfEscenario'][['smmlv','nivel','vacantes','va_inscritos']]\n",
    "    miRango = miRango[~miRango['nivel'].isin(['Instructor','Directivo'])]\n",
    "    miRango = miRango[miRango['va_inscritos'].between(miRango['va_inscritos'].quantile(0.05), miRango['va_inscritos'].quantile(0.95), inclusive = True)]\n",
    "    sns.pairplot(miRango, hue = 'nivel')\n",
    "    print(Dict[e]['Filtro'],miRango.shape)"
   ]
  },
  {
   "cell_type": "markdown",
   "metadata": {},
   "source": [
    "##### Total de inscritos por Tipo de Entidad"
   ]
  },
  {
   "cell_type": "code",
   "execution_count": null,
   "metadata": {
    "scrolled": true
   },
   "outputs": [],
   "source": [
    "plt.figure(figsize=(6,4))\n",
    "dfPlot = dfEmpleo.groupby('tipo_entidad')['va_inscritos'].sum().sort_values()\n",
    "dfPlot.plot.pie(title='Inscritos por Tipo de Entidad');"
   ]
  },
  {
   "cell_type": "code",
   "execution_count": null,
   "metadata": {},
   "outputs": [],
   "source": [
    "pd.DataFrame(dfPlot).sort_values(by=['va_inscritos'], ascending=False).reset_index()"
   ]
  },
  {
   "cell_type": "markdown",
   "metadata": {},
   "source": [
    "#### Percentiles de inscritos por categoria del municipio"
   ]
  },
  {
   "cell_type": "code",
   "execution_count": null,
   "metadata": {
    "scrolled": true
   },
   "outputs": [],
   "source": [
    "for e in Dict:\n",
    "    plt.figure(figsize=(5,4))\n",
    "    plt.title(\"Inscritos por categoria del municipio - \" + Dict[e]['Filtro'])\n",
    "    sns.boxplot(x='mun_categoriaF',y='va_inscritos', \n",
    "            data = Dict[e]['dfModelo'][Dict[e]['dfModelo']['va_inscritos'] \n",
    "                                             < Dict[e]['dfModelo']['va_inscritos'].quantile(0.95)])\n",
    "    plt.show()"
   ]
  },
  {
   "cell_type": "markdown",
   "metadata": {},
   "source": [
    "#### Total de inscritos por Nivel del cargo"
   ]
  },
  {
   "cell_type": "code",
   "execution_count": null,
   "metadata": {
    "scrolled": true
   },
   "outputs": [],
   "source": [
    "for e in Dict:\n",
    "    dfPlot = Dict[e]['dfModelo'].groupby('nivelF')['va_inscritos'].sum().sort_values(ascending=False);\n",
    "\n",
    "    plt.xlabel(\"Nivel\")\n",
    "    plt.ylabel(\"# Inscritos\")\n",
    "    plt.title('Total inscritos por nivel - '+ Dict[e]['Filtro'])\n",
    "    #plt.axis(\"off\")\n",
    "    plt.axes().get_xaxis().set_visible(False)\n",
    "    x = np.arange(0,dfPlot.count(),1)\n",
    "    y = dfPlot.to_numpy()\n",
    "    z = dfPlot.index.to_numpy()\n",
    "    plt.bar(x,y)\n",
    "    for i,j,k in zip(x,y,z):\n",
    "        plt.annotate(j, (i,j), textcoords=\"offset points\", xytext=(0,0), ha='center')\n",
    "        plt.annotate(int(k), (i,0), textcoords=\"offset points\", xytext=(0,-25), ha='center', color = 'red')\n",
    "    plt.show()"
   ]
  },
  {
   "cell_type": "markdown",
   "metadata": {},
   "source": [
    "##### Total inscritos por SMMLV del empleo"
   ]
  },
  {
   "cell_type": "code",
   "execution_count": null,
   "metadata": {
    "scrolled": true
   },
   "outputs": [],
   "source": [
    "for e in Dict:\n",
    "    fig = plt.figure(figsize=(8,3))\n",
    "    plt.plot(Dict[e]['X'][:,4], Dict[e]['Y'], '.')\n",
    "    plt.title('Total inscritos por SMMLV - '+Dict[e]['Filtro'])\n",
    "    plt.xlabel('SMMLV')\n",
    "    plt.ylabel('# Inscritos')\n",
    "    plt.legend(['empleo'], loc='upper right')\n",
    "    plt.show()"
   ]
  },
  {
   "cell_type": "markdown",
   "metadata": {},
   "source": [
    "##### Total Inscritos por Vacantes del empleo"
   ]
  },
  {
   "cell_type": "code",
   "execution_count": null,
   "metadata": {
    "scrolled": true
   },
   "outputs": [],
   "source": [
    "for e in Dict:\n",
    "    fig = plt.figure(figsize=(8,3))\n",
    "    plt.plot(Dict[e]['X'][:,4], Dict[e]['Y'], '.')\n",
    "    plt.title('Total Inscritos por Vacantes del empleo - '+Dict[e]['Filtro'])\n",
    "    plt.xlabel('Vacantes')\n",
    "    plt.ylabel('# Inscritos')\n",
    "    plt.legend(['empleo'], loc='upper right')\n",
    "    plt.show()"
   ]
  },
  {
   "cell_type": "markdown",
   "metadata": {},
   "source": [
    "#### Inicio de la lista de OPEC"
   ]
  },
  {
   "cell_type": "markdown",
   "metadata": {},
   "source": [
    "##### ver diccionarios"
   ]
  },
  {
   "cell_type": "code",
   "execution_count": null,
   "metadata": {
    "scrolled": true
   },
   "outputs": [],
   "source": [
    "dfS = dfEmpleo[['smmlv']]\n",
    "dfS['smmlv2'] = pd.Series(list(map(lambda x: x * 2, dfEmpleo['smmlv'])))\n",
    "dfS"
   ]
  },
  {
   "cell_type": "code",
   "execution_count": null,
   "metadata": {
    "scrolled": true
   },
   "outputs": [],
   "source": [
    "Escena = list(Dict.keys())[0]\n",
    "\n",
    "print(Dict[Escena].keys(),'\\n')\n",
    "#dict_keys(['dfEscenario', 'Filtro', 'Ascenso', 'dfmun_categoria', 'dfnivel', 'dfdeno_nombre', 'dfModelo', 'dataModelo', 'entradas',\n",
    "#'X', 'Y', 'train_data', 'test_data', 'train_targets', 'test_targets', 'Limites', 'num_val_samples', 'Historico'])\n",
    "\n",
    "print(Dict[Escena]['Historico'][0].keys(),'\\n')\n",
    "#dict_keys(['red', 'model', 'hist', 'mae', 'vmae', 'loss', 'vloss'])\n",
    "\n",
    "print(Dict[Escena]['Historico'][0]['red'],'\\n')\n",
    "#[neuronas,learnR,DropOut,epochs,batch]\n"
   ]
  },
  {
   "cell_type": "markdown",
   "metadata": {},
   "source": [
    "# \n",
    "# \n",
    "# "
   ]
  },
  {
   "cell_type": "markdown",
   "metadata": {},
   "source": [
    "# Visualización geografica "
   ]
  },
  {
   "cell_type": "code",
   "execution_count": null,
   "metadata": {},
   "outputs": [],
   "source": [
    "#librerias de graficos\n",
    "import seaborn as sns\n",
    "import matplotlib.pyplot as plt\n",
    "\n",
    "#librerias de geografia\n",
    "from geopy.geocoders import Nominatim\n",
    "import folium\n",
    "#import pyspark"
   ]
  },
  {
   "cell_type": "code",
   "execution_count": null,
   "metadata": {},
   "outputs": [],
   "source": [
    "address = 'Colombia'\n",
    "geolocator = Nominatim(user_agent=\"ny_explorer\")\n",
    "location = geolocator.geocode(address)\n",
    "latitude = location.latitude\n",
    "longitude = location.longitude\n",
    "print('The geograpical coordinate of ',address,' are {}, {}.'.format(latitude, longitude))"
   ]
  },
  {
   "cell_type": "code",
   "execution_count": null,
   "metadata": {},
   "outputs": [],
   "source": [
    "query = \"\"\"select codigo codigo_dane, municipio_categoria_id, latitud, longitud, nombre from public.lugar where municipio_categoria_id is not null \"\"\"\n",
    "dfMuni = fConsultaScript(openCosteo()[0],query)\n",
    "dfMuni.head()"
   ]
  },
  {
   "cell_type": "code",
   "execution_count": null,
   "metadata": {},
   "outputs": [],
   "source": [
    "for e in Dict:\n",
    "    print(e, Dict[e]['Filtro'])\n",
    "    print(Dict[e]['dfEscenario'].shape)"
   ]
  },
  {
   "cell_type": "code",
   "execution_count": null,
   "metadata": {
    "scrolled": true
   },
   "outputs": [],
   "source": [
    "dfDane = Dict[escena]['dfEscenario']\n",
    "dfDane = dfDane[['codigo_dane','mun_inscritos']].groupby('codigo_dane').sum('mun_inscritos')\n",
    "dfDane['codigo_dane'] = dfDane.index\n",
    "dfDane.reset_index(level=None, drop=True, inplace=True, col_level=0, col_fill='')"
   ]
  },
  {
   "cell_type": "code",
   "execution_count": null,
   "metadata": {},
   "outputs": [],
   "source": [
    "cifra = int(dfDane['mun_inscritos'].max())\n",
    "cifra = (cifra,int(cifra/2))[int(str(cifra)[0]) > 4]\n",
    "fraccion = 10 ** (len(str(cifra)) -2)\n",
    "print(cifra,fraccion)"
   ]
  },
  {
   "cell_type": "code",
   "execution_count": null,
   "metadata": {},
   "outputs": [],
   "source": [
    "dfMapa = pd.merge(dfMuni,dfDane,on='codigo_dane',how='left')\n",
    "\n",
    "dfMapa = dfMapa.sort_values('mun_inscritos', ascending=False)\n",
    "dfMapa = dfMapa.dropna()\n",
    "dfMapa['Porc'] = round(dfMapa['mun_inscritos'] / int(dfMapa['mun_inscritos'].max()) * 25, 2)\n",
    "dfMapa = dfMapa[dfMapa['Porc'] > 0]\n",
    "dfMapa.reset_index(level=None, drop=True, inplace=True, col_level=0, col_fill='')\n",
    "print(dfMapa.shape)\n",
    "dfMapa.head(3)"
   ]
  },
  {
   "cell_type": "code",
   "execution_count": null,
   "metadata": {},
   "outputs": [],
   "source": [
    "map_colombia = folium.Map(location=[latitude, longitude], zoom_start=6)\n",
    "\n",
    "# add markers to map\n",
    "for lat, lng, label, insc, rdo in zip(dfMapa['latitud'], dfMapa['longitud'], dfMapa['nombre'], dfMapa['mun_inscritos'], dfMapa['Porc']):\n",
    "    label = folium.Popup(str(label)+'-'+str(int(insc)), parse_html=True)\n",
    "    folium.CircleMarker(\n",
    "        [lng, lat],\n",
    "        radius=rdo,\n",
    "        popup=label,\n",
    "        color='black',\n",
    "        fill=True,\n",
    "        fill_color='gold',\n",
    "        fill_opacity=0.5,\n",
    "        parse_html=False).add_to(map_colombia)\n",
    "    \n",
    "map_colombia"
   ]
  },
  {
   "cell_type": "code",
   "execution_count": null,
   "metadata": {},
   "outputs": [],
   "source": [
    "from folium import plugins\n",
    "\n",
    "map_colombia = folium.Map(location=[latitude, longitude], zoom_start=5,width=\"100%\",height=\"100%\")\n",
    "locations = list(zip(dfMapa['longitud'], dfMapa['latitud']))\n",
    "cluster = plugins.MarkerCluster(\n",
    "    locations=locations, \n",
    "    popups=dfMapa[\"mun_inscritos\"].tolist(), \n",
    "    name=dfMapa[\"nombre\"].tolist(), \n",
    "    radius=dfMapa['Porc'].tolist()\n",
    ")\n",
    "map_colombia.add_child(cluster)\n",
    "map_colombia\n",
    "\n",
    "#folium.plugins.MarkerCluster(locations=None, popups=None, icons=None, name=None, overlay=True, \n",
    "#                             control=True, show=True, icon_create_function=None, options=None, **kwargs)"
   ]
  },
  {
   "cell_type": "code",
   "execution_count": null,
   "metadata": {},
   "outputs": [],
   "source": []
  },
  {
   "cell_type": "code",
   "execution_count": null,
   "metadata": {
    "scrolled": true
   },
   "outputs": [],
   "source": []
  },
  {
   "cell_type": "code",
   "execution_count": null,
   "metadata": {},
   "outputs": [],
   "source": []
  },
  {
   "cell_type": "code",
   "execution_count": null,
   "metadata": {},
   "outputs": [],
   "source": []
  },
  {
   "cell_type": "code",
   "execution_count": null,
   "metadata": {},
   "outputs": [],
   "source": [
    "from sklearn.feature_selection import f_regression\n",
    "\n",
    "# Define the target variable\n",
    "filtered_data = dfEmpleo[dfEmpleo['conv_padre_id']==554139239].copy()\n",
    "\n",
    "\n",
    "y_filtered = filtered_data['mun_inscritos']\n",
    "\n",
    "# Exclude specified columns from features\n",
    "excluded_columns = ['inscritos', 'aprobo_vrm', 'aprobo_escritas', 'mun_aprobo_vrm', 'mun_aprobo_escritas', 'mun_inscritos']\n",
    "selected_columns = filtered_data.columns.difference(excluded_columns)\n",
    "\n",
    "# Splitting numerical and categorical features\n",
    "numerical_cols = filtered_data[selected_columns].select_dtypes(include=['float64', 'int64','int32']).columns\n",
    "categorical_cols = filtered_data[selected_columns].select_dtypes(include=['object', 'bool']).columns\n",
    "\n",
    "# Handle numerical columns: calculate correlation with 'mun_inscritos'\n",
    "numerical_corr = filtered_data[numerical_cols].corrwith(y_filtered).sort_values(ascending=False)\n",
    "\n",
    "# Handle categorical columns: encode and evaluate ANOVA F-value\n",
    "X_encoded = pd.get_dummies(filtered_data[categorical_cols], drop_first=True)\n",
    "f_values, p_values = f_regression(X_encoded, y_filtered)\n",
    "\n",
    "# Compile results for categorical variables\n",
    "anova_results_cat = pd.DataFrame({\n",
    "    'Feature': X_encoded.columns,\n",
    "    'F-Value': f_values,\n",
    "    'P-Value': p_values\n",
    "}).sort_values(by='F-Value', ascending=False)\n",
    "\n",
    "# Select the top 4 features based on correlation and F-value\n",
    "top_numerical_features = numerical_corr.index.tolist()  # Top 2 numerical\n",
    "top_categorical_features = anova_results_cat.head(20)['Feature'].tolist()  # Top 2 categorical\n",
    "\n",
    "top_features = top_numerical_features + top_categorical_features\n",
    "top_features\n"
   ]
  },
  {
   "cell_type": "code",
   "execution_count": null,
   "metadata": {},
   "outputs": [],
   "source": [
    "X_encoded = pd.get_dummies(filtered_data[categorical_cols], drop_first=True)"
   ]
  },
  {
   "cell_type": "code",
   "execution_count": null,
   "metadata": {},
   "outputs": [],
   "source": [
    "anova_results_cat = pd.DataFrame({\n",
    "    'Feature': X_encoded.columns,\n",
    "    'F-Value': f_values,\n",
    "    'P-Value': p_values\n",
    "}).sort_values(by='F-Value', ascending=False)"
   ]
  },
  {
   "cell_type": "code",
   "execution_count": null,
   "metadata": {},
   "outputs": [],
   "source": [
    "anova_results_cat"
   ]
  },
  {
   "cell_type": "code",
   "execution_count": null,
   "metadata": {},
   "outputs": [],
   "source": [
    "pd.options.display.max_rows = None"
   ]
  },
  {
   "cell_type": "code",
   "execution_count": null,
   "metadata": {
    "scrolled": true
   },
   "outputs": [],
   "source": [
    "# Re-import necessary libraries for computation as environment might have reset\n",
    "import pandas as pd\n",
    "from sklearn.feature_selection import f_classif\n",
    "\n",
    "# Reload the dataset\n",
    "#file_path = '/mnt/data/nn_simo_20241108.xlsx'\n",
    "#data = pd.read_excel(file_path)\n",
    "\n",
    "# Filter the dataset by 'conv_padre' as per previous instructions\n",
    "filtered_data = dfEmpleo[dfEmpleo['conv_padre'] == \"PROCESO DE SELECCION PARA MUNICIPIOS DE 5ta Y 6ta CATEGORIA\"]\n",
    "\n",
    "# Target variable\n",
    "y_target = filtered_data['mun_inscritos']\n",
    "\n",
    "# Categorical variables for ANOVA evaluation without using get_dummies\n",
    "categorical_cols = [ 'nivel', 'denominacion', 'concurso_ascenso']\n",
    "\n",
    "# Encode the categorical columns by replacing categories with mean 'mun_inscritos' (mean encoding)\n",
    "for col in categorical_cols:\n",
    "    mean_encoded = filtered_data.groupby(col)['mun_inscritos'].mean()\n",
    "    filtered_data[f'{col}_mean_encoded'] = filtered_data[col].map(mean_encoded)\n",
    "\n",
    "# Use the mean encoded columns for ANOVA to evaluate their significance without get_dummies\n",
    "X_encoded = filtered_data[[f'{col}_mean_encoded' for col in categorical_cols]]\n",
    "\n",
    "# Perform ANOVA F-test for these encoded columns against the target\n",
    "f_values, p_values = f_classif(X_encoded, y_target)\n",
    "\n",
    "# Compile results into a DataFrame for analysis\n",
    "anova_results = pd.DataFrame({\n",
    "    'Feature': X_encoded.columns,\n",
    "    'F-Value': f_values,\n",
    "    'P-Value': p_values\n",
    "}).sort_values(by='F-Value', ascending=False)\n",
    "\n",
    "# Display the ANOVA results\n",
    "anova_results\n"
   ]
  },
  {
   "cell_type": "code",
   "execution_count": null,
   "metadata": {},
   "outputs": [],
   "source": [
    "mean_encoded = filtered_data.groupby('denominacion')['mun_inscritos'].mean()\n",
    "filtered_data[f'{'denominacion'}_mean'] = filtered_data['denominacion'].map(mean_encoded)"
   ]
  },
  {
   "cell_type": "code",
   "execution_count": null,
   "metadata": {},
   "outputs": [],
   "source": []
  },
  {
   "cell_type": "code",
   "execution_count": null,
   "metadata": {},
   "outputs": [],
   "source": [
    "from sqlalchemy.types import String"
   ]
  },
  {
   "cell_type": "code",
   "execution_count": null,
   "metadata": {},
   "outputs": [],
   "source": [
    "  lista = fRetornaLista(openCosteo, f\"\"\"select nombre, tipo, id from {openCosteo()[1]}.np_variables where activo \"\"\")\n",
    "\n",
    "  col_mun = ['departamento', 'municipio', 'codigo_dane', 'vacantes', 'mun_inscritos', 'mun_aprobo_vrm', 'mun_aprobo_escritas', 'mun_categoria']\n",
    "  \n",
    "  # si hay una variable de municipio\n",
    "  if any(item in lista[0] for item in col_mun):\n",
    "    df = fConsultaTabla(openCosteo, 'nn_simo')\n",
    "  else:\n",
    "    df = fConsultaTabla(openCosteo, 'nn_simo_unico')\n",
    "    for col in col_mun:\n",
    "      df[col] = None\n",
    "\n",
    "  df = fCorregirTipoDatos(df)[0]\n",
    "\n",
    "  if any(item in lista[0] for item in ['smmlv', 'asignacion_salarial']):\n",
    "    df = df[~pd.isnull(df['smmlv'])]\n",
    "    df.reset_index(drop=True, inplace=True)\n"
   ]
  },
  {
   "cell_type": "code",
   "execution_count": null,
   "metadata": {},
   "outputs": [],
   "source": []
  },
  {
   "cell_type": "code",
   "execution_count": null,
   "metadata": {},
   "outputs": [],
   "source": [
    "import pandas as pd\n",
    "print(pd.__version__)"
   ]
  },
  {
   "cell_type": "code",
   "execution_count": null,
   "metadata": {},
   "outputs": [],
   "source": [
    "import numpy as np\n",
    "print(np.__version__)"
   ]
  },
  {
   "cell_type": "code",
   "execution_count": null,
   "metadata": {},
   "outputs": [],
   "source": []
  },
  {
   "cell_type": "code",
   "execution_count": null,
   "metadata": {},
   "outputs": [],
   "source": []
  }
 ],
 "metadata": {
  "kernelspec": {
   "display_name": "Costos env",
   "language": "python",
   "name": "costos_env"
  },
  "language_info": {
   "codemirror_mode": {
    "name": "ipython",
    "version": 3
   },
   "file_extension": ".py",
   "mimetype": "text/x-python",
   "name": "python",
   "nbconvert_exporter": "python",
   "pygments_lexer": "ipython3",
   "version": "3.12.7"
  }
 },
 "nbformat": 4,
 "nbformat_minor": 4
}
