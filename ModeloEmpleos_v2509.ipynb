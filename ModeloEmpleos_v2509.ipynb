{
 "cells": [
  {
   "cell_type": "markdown",
   "metadata": {},
   "source": [
    "# Red neuronal para estimar los inscritos para una convocatoria"
   ]
  },
  {
   "cell_type": "markdown",
   "metadata": {},
   "source": [
    "### Instalación de librerias"
   ]
  },
  {
   "cell_type": "code",
   "execution_count": null,
   "metadata": {},
   "outputs": [],
   "source": [
    "#pip install pandas psycopg2 sqlalchemy unidecode mlflow keras tensorflow seaborn statsmodels xlsxwriter \n",
    "#pip install streamlit, flask_restful flask_cors geopy folium"
   ]
  },
  {
   "cell_type": "code",
   "execution_count": null,
   "metadata": {},
   "outputs": [],
   "source": [
    "#!pip install -r \"C:\\\\Users\\\\jlmartinez\\\\Costos\\\\requeriments.txt\"\n",
    "#!pip install scikeras\n",
    "#!pip install sklearn\n",
    "#!pip install -U protobuf==3.20.*\n",
    "#!pip install -U pyOpenSSL\n",
    "#!pip install \"numpy<2\""
   ]
  },
  {
   "cell_type": "code",
   "execution_count": null,
   "metadata": {
    "scrolled": true
   },
   "outputs": [],
   "source": [
    "#!pip freeze\n",
    "import subprocess\n",
    "\n",
    "output = subprocess.run([\"pip\", \"freeze\"], capture_output=True, text=True)\n",
    "filtered_output = [line for line in output.stdout.splitlines() if \"==\" in line]\n",
    "print(\"\\n\".join(filtered_output))"
   ]
  },
  {
   "cell_type": "code",
   "execution_count": 31,
   "metadata": {
    "scrolled": true
   },
   "outputs": [
    {
     "name": "stdout",
     "output_type": "stream",
     "text": [
      "Note: you may need to restart the kernel to use updated packages.\n"
     ]
    }
   ],
   "source": [
    "pip freeze > requeriments.txt"
   ]
  },
  {
   "cell_type": "code",
   "execution_count": 27,
   "metadata": {
    "scrolled": true
   },
   "outputs": [
    {
     "name": "stdout",
     "output_type": "stream",
     "text": [
      "Collecting streamlit\n",
      "  Downloading streamlit-1.50.0-py3-none-any.whl.metadata (9.5 kB)\n",
      "Collecting altair!=5.4.0,!=5.4.1,<6,>=4.0 (from streamlit)\n",
      "  Using cached altair-5.5.0-py3-none-any.whl.metadata (11 kB)\n",
      "Requirement already satisfied: blinker<2,>=1.5.0 in c:\\users\\jlmartinez\\costos\\.venv\\lib\\site-packages (from streamlit) (1.9.0)\n",
      "Requirement already satisfied: cachetools<7,>=4.0 in c:\\users\\jlmartinez\\costos\\.venv\\lib\\site-packages (from streamlit) (5.5.2)\n",
      "Requirement already satisfied: click<9,>=7.0 in c:\\users\\jlmartinez\\costos\\.venv\\lib\\site-packages (from streamlit) (8.3.0)\n",
      "Requirement already satisfied: numpy<3,>=1.23 in c:\\users\\jlmartinez\\costos\\.venv\\lib\\site-packages (from streamlit) (2.3.3)\n",
      "Requirement already satisfied: packaging<26,>=20 in c:\\users\\jlmartinez\\costos\\.venv\\lib\\site-packages (from streamlit) (25.0)\n",
      "Requirement already satisfied: pandas<3,>=1.4.0 in c:\\users\\jlmartinez\\costos\\.venv\\lib\\site-packages (from streamlit) (2.3.2)\n",
      "Requirement already satisfied: pillow<12,>=7.1.0 in c:\\users\\jlmartinez\\costos\\.venv\\lib\\site-packages (from streamlit) (11.3.0)\n",
      "Requirement already satisfied: protobuf<7,>=3.20 in c:\\users\\jlmartinez\\costos\\.venv\\lib\\site-packages (from streamlit) (6.32.1)\n",
      "Requirement already satisfied: pyarrow>=7.0 in c:\\users\\jlmartinez\\costos\\.venv\\lib\\site-packages (from streamlit) (21.0.0)\n",
      "Requirement already satisfied: requests<3,>=2.27 in c:\\users\\jlmartinez\\costos\\.venv\\lib\\site-packages (from streamlit) (2.32.5)\n",
      "Collecting tenacity<10,>=8.1.0 (from streamlit)\n",
      "  Using cached tenacity-9.1.2-py3-none-any.whl.metadata (1.2 kB)\n",
      "Collecting toml<2,>=0.10.1 (from streamlit)\n",
      "  Using cached toml-0.10.2-py2.py3-none-any.whl.metadata (7.1 kB)\n",
      "Requirement already satisfied: typing-extensions<5,>=4.4.0 in c:\\users\\jlmartinez\\costos\\.venv\\lib\\site-packages (from streamlit) (4.15.0)\n",
      "Collecting watchdog<7,>=2.1.5 (from streamlit)\n",
      "  Using cached watchdog-6.0.0-py3-none-win_amd64.whl.metadata (44 kB)\n",
      "Requirement already satisfied: gitpython!=3.1.19,<4,>=3.0.7 in c:\\users\\jlmartinez\\costos\\.venv\\lib\\site-packages (from streamlit) (3.1.45)\n",
      "Collecting pydeck<1,>=0.8.0b4 (from streamlit)\n",
      "  Using cached pydeck-0.9.1-py2.py3-none-any.whl.metadata (4.1 kB)\n",
      "Requirement already satisfied: tornado!=6.5.0,<7,>=6.0.3 in c:\\users\\jlmartinez\\costos\\.venv\\lib\\site-packages (from streamlit) (6.5.2)\n",
      "Requirement already satisfied: jinja2 in c:\\users\\jlmartinez\\costos\\.venv\\lib\\site-packages (from altair!=5.4.0,!=5.4.1,<6,>=4.0->streamlit) (3.1.6)\n",
      "Requirement already satisfied: jsonschema>=3.0 in c:\\users\\jlmartinez\\costos\\.venv\\lib\\site-packages (from altair!=5.4.0,!=5.4.1,<6,>=4.0->streamlit) (4.25.1)\n",
      "Collecting narwhals>=1.14.2 (from altair!=5.4.0,!=5.4.1,<6,>=4.0->streamlit)\n",
      "  Downloading narwhals-2.6.0-py3-none-any.whl.metadata (11 kB)\n",
      "Requirement already satisfied: colorama in c:\\users\\jlmartinez\\costos\\.venv\\lib\\site-packages (from click<9,>=7.0->streamlit) (0.4.6)\n",
      "Requirement already satisfied: gitdb<5,>=4.0.1 in c:\\users\\jlmartinez\\costos\\.venv\\lib\\site-packages (from gitpython!=3.1.19,<4,>=3.0.7->streamlit) (4.0.12)\n",
      "Requirement already satisfied: smmap<6,>=3.0.1 in c:\\users\\jlmartinez\\costos\\.venv\\lib\\site-packages (from gitdb<5,>=4.0.1->gitpython!=3.1.19,<4,>=3.0.7->streamlit) (5.0.2)\n",
      "Requirement already satisfied: python-dateutil>=2.8.2 in c:\\users\\jlmartinez\\costos\\.venv\\lib\\site-packages (from pandas<3,>=1.4.0->streamlit) (2.9.0.post0)\n",
      "Requirement already satisfied: pytz>=2020.1 in c:\\users\\jlmartinez\\costos\\.venv\\lib\\site-packages (from pandas<3,>=1.4.0->streamlit) (2025.2)\n",
      "Requirement already satisfied: tzdata>=2022.7 in c:\\users\\jlmartinez\\costos\\.venv\\lib\\site-packages (from pandas<3,>=1.4.0->streamlit) (2025.2)\n",
      "Requirement already satisfied: charset_normalizer<4,>=2 in c:\\users\\jlmartinez\\costos\\.venv\\lib\\site-packages (from requests<3,>=2.27->streamlit) (3.4.3)\n",
      "Requirement already satisfied: idna<4,>=2.5 in c:\\users\\jlmartinez\\costos\\.venv\\lib\\site-packages (from requests<3,>=2.27->streamlit) (3.10)\n",
      "Requirement already satisfied: urllib3<3,>=1.21.1 in c:\\users\\jlmartinez\\costos\\.venv\\lib\\site-packages (from requests<3,>=2.27->streamlit) (2.5.0)\n",
      "Requirement already satisfied: certifi>=2017.4.17 in c:\\users\\jlmartinez\\costos\\.venv\\lib\\site-packages (from requests<3,>=2.27->streamlit) (2025.8.3)\n",
      "Requirement already satisfied: MarkupSafe>=2.0 in c:\\users\\jlmartinez\\costos\\.venv\\lib\\site-packages (from jinja2->altair!=5.4.0,!=5.4.1,<6,>=4.0->streamlit) (3.0.3)\n",
      "Requirement already satisfied: attrs>=22.2.0 in c:\\users\\jlmartinez\\costos\\.venv\\lib\\site-packages (from jsonschema>=3.0->altair!=5.4.0,!=5.4.1,<6,>=4.0->streamlit) (25.3.0)\n",
      "Requirement already satisfied: jsonschema-specifications>=2023.03.6 in c:\\users\\jlmartinez\\costos\\.venv\\lib\\site-packages (from jsonschema>=3.0->altair!=5.4.0,!=5.4.1,<6,>=4.0->streamlit) (2025.9.1)\n",
      "Requirement already satisfied: referencing>=0.28.4 in c:\\users\\jlmartinez\\costos\\.venv\\lib\\site-packages (from jsonschema>=3.0->altair!=5.4.0,!=5.4.1,<6,>=4.0->streamlit) (0.36.2)\n",
      "Requirement already satisfied: rpds-py>=0.7.1 in c:\\users\\jlmartinez\\costos\\.venv\\lib\\site-packages (from jsonschema>=3.0->altair!=5.4.0,!=5.4.1,<6,>=4.0->streamlit) (0.27.1)\n",
      "Requirement already satisfied: six>=1.5 in c:\\users\\jlmartinez\\costos\\.venv\\lib\\site-packages (from python-dateutil>=2.8.2->pandas<3,>=1.4.0->streamlit) (1.17.0)\n",
      "Downloading streamlit-1.50.0-py3-none-any.whl (10.1 MB)\n",
      "   ---------------------------------------- 0.0/10.1 MB ? eta -:--:--\n",
      "   ---------------------------------------- 10.1/10.1 MB 52.4 MB/s  0:00:00\n",
      "Using cached altair-5.5.0-py3-none-any.whl (731 kB)\n",
      "Using cached pydeck-0.9.1-py2.py3-none-any.whl (6.9 MB)\n",
      "Using cached tenacity-9.1.2-py3-none-any.whl (28 kB)\n",
      "Using cached toml-0.10.2-py2.py3-none-any.whl (16 kB)\n",
      "Using cached watchdog-6.0.0-py3-none-win_amd64.whl (79 kB)\n",
      "Downloading narwhals-2.6.0-py3-none-any.whl (408 kB)\n",
      "Installing collected packages: watchdog, toml, tenacity, narwhals, pydeck, altair, streamlit\n",
      "\n",
      "   ---------------------------------------- 0/7 [watchdog]\n",
      "   ----------------- ---------------------- 3/7 [narwhals]\n",
      "   ----------------- ---------------------- 3/7 [narwhals]\n",
      "   ----------------- ---------------------- 3/7 [narwhals]\n",
      "   ----------------- ---------------------- 3/7 [narwhals]\n",
      "   ----------------- ---------------------- 3/7 [narwhals]\n",
      "   ----------------- ---------------------- 3/7 [narwhals]\n",
      "   ----------------- ---------------------- 3/7 [narwhals]\n",
      "   ---------------------- ----------------- 4/7 [pydeck]\n",
      "   ---------------------------- ----------- 5/7 [altair]\n",
      "   ---------------------------- ----------- 5/7 [altair]\n",
      "   ---------------------------- ----------- 5/7 [altair]\n",
      "   ---------------------------------- ----- 6/7 [streamlit]\n",
      "   ---------------------------------- ----- 6/7 [streamlit]\n",
      "   ---------------------------------- ----- 6/7 [streamlit]\n",
      "   ---------------------------------- ----- 6/7 [streamlit]\n",
      "   ---------------------------------- ----- 6/7 [streamlit]\n",
      "   ---------------------------------- ----- 6/7 [streamlit]\n",
      "   ---------------------------------- ----- 6/7 [streamlit]\n",
      "   ---------------------------------- ----- 6/7 [streamlit]\n",
      "   ---------------------------------- ----- 6/7 [streamlit]\n",
      "   ---------------------------------- ----- 6/7 [streamlit]\n",
      "   ---------------------------------- ----- 6/7 [streamlit]\n",
      "   ---------------------------------- ----- 6/7 [streamlit]\n",
      "   ---------------------------------------- 7/7 [streamlit]\n",
      "\n",
      "Successfully installed altair-5.5.0 narwhals-2.6.0 pydeck-0.9.1 streamlit-1.50.0 tenacity-9.1.2 toml-0.10.2 watchdog-6.0.0\n",
      "Note: you may need to restart the kernel to use updated packages.\n"
     ]
    }
   ],
   "source": [
    "pip install streamlit"
   ]
  },
  {
   "cell_type": "markdown",
   "metadata": {},
   "source": [
    "# \n",
    "## Librerias Generales"
   ]
  },
  {
   "cell_type": "code",
   "execution_count": 1,
   "metadata": {},
   "outputs": [],
   "source": [
    "#librerias\n",
    "import io\n",
    "import pandas as pd\n",
    "import time\n",
    "from datetime import datetime\n",
    "\n",
    "# Maximo de columnas\n",
    "pd.options.display.max_columns = None\n",
    "import warnings\n",
    "warnings.filterwarnings('ignore')"
   ]
  },
  {
   "cell_type": "code",
   "execution_count": 2,
   "metadata": {
    "scrolled": true
   },
   "outputs": [
    {
     "name": "stdout",
     "output_type": "stream",
     "text": [
      "CPU times: total: 10.5 s\n",
      "Wall time: 8.46 s\n"
     ]
    }
   ],
   "source": [
    "%%time\n",
    "# Importar funciones\n",
    "from src.A_Generales import lprint, load_config\n",
    "from src.B_Historico import rDatosSimo, rConvocatoriaSimo\n",
    "from src.C_RedNeuronal import fEscenarios, fEntrenamiento, fProyeccion\n",
    "from src.D_GuardarBD import fGuardarResultados\n",
    "from src.E_Resultados import fResultadosExcel, fResultadosTexto, fResultadosGraficas, rArchivoZip"
   ]
  },
  {
   "cell_type": "markdown",
   "metadata": {},
   "source": [
    "# \n",
    "# Ejecución de la red neuronal"
   ]
  },
  {
   "cell_type": "markdown",
   "metadata": {},
   "source": [
    "### Leer Histórico de SIMO"
   ]
  },
  {
   "cell_type": "code",
   "execution_count": 6,
   "metadata": {
    "scrolled": true
   },
   "outputs": [
    {
     "name": "stderr",
     "output_type": "stream",
     "text": [
      "2025-09-29 17:06:09,414 - INFO - 2025-Sep-29-17:06:09, Inicia Pipeline \n",
      "\n",
      "\n",
      "\n",
      "2025-09-29 17:06:09,421 - INFO - 2025-Sep-29-17:06:09, Inicio - Crear y Leer historico de Simo\n",
      "\n",
      "2025-09-29 17:06:09,689 - INFO - 2025-Sep-29-17:06:09, FIN de lectura de nn_simo \n",
      "\n",
      "\n"
     ]
    },
    {
     "name": "stdout",
     "output_type": "stream",
     "text": [
      "CPU times: total: 203 ms\n",
      "Wall time: 280 ms\n"
     ]
    }
   ],
   "source": [
    "%%time\n",
    "lprint(\"Inicia Pipeline \\n\\n\")\n",
    "dfEmpleo = rDatosSimo()"
   ]
  },
  {
   "cell_type": "markdown",
   "metadata": {},
   "source": [
    "### Leer los escenarios y Elaborar el diccionario"
   ]
  },
  {
   "cell_type": "markdown",
   "metadata": {},
   "source": [
    "### Realiza el entrenamiento de cada escenario"
   ]
  },
  {
   "cell_type": "code",
   "execution_count": 9,
   "metadata": {
    "scrolled": true
   },
   "outputs": [
    {
     "name": "stderr",
     "output_type": "stream",
     "text": [
      "2025-09-29 17:06:09,750 - INFO - 2025-Sep-29-17:06:09, Inicio - Realizar entrenamiento de escenarios\n",
      "\n",
      "2025-09-29 17:06:09,754 - INFO - 2025-Sep-29-17:06:09, Inicio - Realizar entrenamiento de escenarios\n",
      "\n",
      "2025-09-29 17:06:10,334 - INFO - 2025-Sep-29-17:06:10, FIN de entrenamiento de escenarios \n",
      "\n",
      "\n"
     ]
    },
    {
     "name": "stdout",
     "output_type": "stream",
     "text": [
      "CPU times: total: 531 ms\n",
      "Wall time: 589 ms\n"
     ]
    }
   ],
   "source": [
    "%%time\n",
    "lprint(\"Inicio - Realizar entrenamiento de escenarios\")\n",
    "Dict = fEntrenamiento(dfEmpleo, False)"
   ]
  },
  {
   "cell_type": "code",
   "execution_count": null,
   "metadata": {},
   "outputs": [],
   "source": []
  },
  {
   "cell_type": "markdown",
   "metadata": {},
   "source": [
    "### Seleccionar convocatoria"
   ]
  },
  {
   "cell_type": "code",
   "execution_count": 13,
   "metadata": {
    "scrolled": true
   },
   "outputs": [
    {
     "name": "stderr",
     "output_type": "stream",
     "text": [
      "2025-09-29 17:06:10,991 - INFO - 2025-Sep-29-17:06:10, Inicio - Seleccionar convocatoria a proyectar\n",
      "\n",
      "2025-09-29 17:06:10,996 - INFO - 2025-Sep-29-17:06:10, Inicio - Seleccionar convocatoria a proyectar\n",
      "\n",
      "2025-09-29 17:06:11,032 - INFO - 2025-Sep-29-17:06:11, La convocatoria es: 452897645\n",
      "\n",
      "2025-09-29 17:06:11,053 - INFO - 2025-Sep-29-17:06:11, Consulta de la convocatoria '452897645'\n",
      "\n",
      "2025-09-29 17:06:11,159 - INFO - 2025-Sep-29-17:06:11, Inicio consulta sql/convocatorias_unico.sql\n",
      "\n",
      "2025-09-29 17:06:12,029 - INFO - 2025-Sep-29-17:06:12, Fin consulta sql/convocatorias_unico.sql (5, 35)\n",
      "\n",
      "2025-09-29 17:06:12,092 - INFO - 2025-Sep-29-17:06:12, Inicio consulta sql/experiencia.sql\n",
      "\n",
      "2025-09-29 17:06:19,020 - INFO - 2025-Sep-29-17:06:19, Fin consulta sql/experiencia.sql (167998, 10)\n",
      "\n",
      "2025-09-29 17:06:19,053 - INFO - 2025-Sep-29-17:06:19, Cruce con los municipios y la experiencia\n",
      "\n",
      "2025-09-29 17:06:19,091 - INFO - 2025-Sep-29-17:06:19, DataFrame de tabla public.salario_minimo\n",
      "\n",
      "2025-09-29 17:06:19,122 - INFO - 2025-Sep-29-17:06:19, FIN de consulta de la convocatoria (5, 47)\n",
      "\n",
      "2025-09-29 17:06:19,127 - INFO - 2025-Sep-29-17:06:19, FIN de proyección de convocatoria\n",
      "\n",
      "2025-09-29 17:06:19,132 - INFO - 2025-Sep-29-17:06:19, FIN de proyección de convocatoria\n",
      "\n"
     ]
    },
    {
     "name": "stdout",
     "output_type": "stream",
     "text": [
      "CPU times: total: 1.22 s\n",
      "Wall time: 8.15 s\n"
     ]
    }
   ],
   "source": [
    "%%time\n",
    "id_convocatoria = 452897645\n",
    "lprint(\"Inicio - Seleccionar convocatoria a proyectar\")\n",
    "dfCostos, co = rConvocatoriaSimo(id_convocatoria)\n",
    "lprint(\"FIN de proyección de convocatoria\")"
   ]
  },
  {
   "cell_type": "markdown",
   "metadata": {},
   "source": [
    "### Realizar Proyección"
   ]
  },
  {
   "cell_type": "code",
   "execution_count": 15,
   "metadata": {
    "scrolled": true
   },
   "outputs": [
    {
     "name": "stderr",
     "output_type": "stream",
     "text": [
      "2025-09-29 17:06:19,173 - INFO - 2025-Sep-29-17:06:19, Inicio - Realizar proyección de convocatoria 452897645\n",
      "\n",
      "2025-09-29 17:06:19,266 - INFO - 2025-Sep-29-17:06:19, DataFrame de tabla public.salario_minimo\n",
      "\n"
     ]
    },
    {
     "name": "stdout",
     "output_type": "stream",
     "text": [
      "\u001b[1m1/1\u001b[0m \u001b[32m━━━━━━━━━━━━━━━━━━━━\u001b[0m\u001b[37m\u001b[0m \u001b[1m0s\u001b[0m 125ms/step\n"
     ]
    },
    {
     "name": "stderr",
     "output_type": "stream",
     "text": [
      "2025-09-29 17:06:19,491 - INFO - 2025-Sep-29-17:06:19, Proyección realizada para el escenario Escena24-0\n",
      "\n"
     ]
    },
    {
     "name": "stdout",
     "output_type": "stream",
     "text": [
      "\u001b[1m1/1\u001b[0m \u001b[32m━━━━━━━━━━━━━━━━━━━━\u001b[0m\u001b[37m\u001b[0m \u001b[1m0s\u001b[0m 96ms/step\n"
     ]
    },
    {
     "name": "stderr",
     "output_type": "stream",
     "text": [
      "2025-09-29 17:06:19,637 - INFO - 2025-Sep-29-17:06:19, Proyección realizada para el escenario Escena24-0\n",
      "\n"
     ]
    },
    {
     "name": "stdout",
     "output_type": "stream",
     "text": [
      "\u001b[1m1/1\u001b[0m \u001b[32m━━━━━━━━━━━━━━━━━━━━\u001b[0m\u001b[37m\u001b[0m \u001b[1m0s\u001b[0m 83ms/step\n"
     ]
    },
    {
     "name": "stderr",
     "output_type": "stream",
     "text": [
      "2025-09-29 17:06:19,836 - INFO - 2025-Sep-29-17:06:19, Proyección realizada para el escenario Escena24-1\n",
      "\n"
     ]
    },
    {
     "name": "stdout",
     "output_type": "stream",
     "text": [
      "\u001b[1m1/1\u001b[0m \u001b[32m━━━━━━━━━━━━━━━━━━━━\u001b[0m\u001b[37m\u001b[0m \u001b[1m0s\u001b[0m 95ms/step\n"
     ]
    },
    {
     "name": "stderr",
     "output_type": "stream",
     "text": [
      "2025-09-29 17:06:19,978 - INFO - 2025-Sep-29-17:06:19, Proyección realizada para el escenario Escena24-1\n",
      "\n",
      "2025-09-29 17:06:19,987 - INFO - 2025-Sep-29-17:06:19, FIN - Proyección de inscritos finalizada \n",
      "\n",
      "\n",
      "2025-09-29 17:06:19,992 - INFO - 2025-Sep-29-17:06:19, FIN - Proyección de inscritos finalizada \n",
      "\n",
      "\n"
     ]
    },
    {
     "name": "stdout",
     "output_type": "stream",
     "text": [
      "CPU times: total: 766 ms\n",
      "Wall time: 824 ms\n"
     ]
    }
   ],
   "source": [
    "%%time\n",
    "if not dfCostos.empty:\n",
    "    lprint(f\"Inicio - Realizar proyección de convocatoria {id_convocatoria}\")\n",
    "    dfCostos, Convocatoria = fProyeccion(Dict, dfCostos)\n",
    "    lprint(\"FIN - Proyección de inscritos finalizada \\n\")\n",
    "else:\n",
    "    lprint(\"Convocatoria no seleccionada\")"
   ]
  },
  {
   "cell_type": "code",
   "execution_count": 16,
   "metadata": {},
   "outputs": [
    {
     "data": {
      "text/plain": [
       "(5, 47)"
      ]
     },
     "execution_count": 16,
     "metadata": {},
     "output_type": "execute_result"
    }
   ],
   "source": [
    "dfCostos.shape"
   ]
  },
  {
   "cell_type": "markdown",
   "metadata": {},
   "source": [
    "### Guardar proyección en la BD"
   ]
  },
  {
   "cell_type": "code",
   "execution_count": 18,
   "metadata": {
    "scrolled": true
   },
   "outputs": [
    {
     "name": "stderr",
     "output_type": "stream",
     "text": [
      "2025-09-29 17:06:20,042 - INFO - 2025-Sep-29-17:06:20, Inicio - Guardar resultados en la BD\n",
      "\n",
      "2025-09-29 17:06:20,050 - INFO - 2025-Sep-29-17:06:20, Inicio - Guardar resultados en la BD\n",
      "\n",
      "2025-09-29 17:06:20,275 - INFO - 2025-Sep-29-17:06:20, Ejecucion creada: 245\n",
      "\n",
      "2025-09-29 17:06:20,376 - INFO - 2025-Sep-29-17:06:20, Datos insertados por registros en tabla public.nn_empleo\n",
      "\n",
      "2025-09-29 17:06:20,381 - INFO - 2025-Sep-29-17:06:20, Inicio insertar nn_stats\n",
      "\n",
      "2025-09-29 17:06:20,504 - WARNING - 5 out of the last 5 calls to <function TensorFlowTrainer.make_predict_function.<locals>.one_step_on_data_distributed at 0x0000014206079760> triggered tf.function retracing. Tracing is expensive and the excessive number of tracings could be due to (1) creating @tf.function repeatedly in a loop, (2) passing tensors with different shapes, (3) passing Python objects instead of tensors. For (1), please define your @tf.function outside of the loop. For (2), @tf.function has reduce_retracing=True option that can avoid unnecessary retracing. For (3), please refer to https://www.tensorflow.org/guide/function#controlling_retracing and https://www.tensorflow.org/api_docs/python/tf/function for  more details.\n"
     ]
    },
    {
     "name": "stdout",
     "output_type": "stream",
     "text": [
      "\u001b[1m116/116\u001b[0m \u001b[32m━━━━━━━━━━━━━━━━━━━━\u001b[0m\u001b[37m\u001b[0m \u001b[1m0s\u001b[0m 1ms/step\n"
     ]
    },
    {
     "name": "stderr",
     "output_type": "stream",
     "text": [
      "2025-09-29 17:06:20,750 - INFO - 2025-Sep-29-17:06:20, 245/24/3/0.19282867432091455/1909.7815828186697/43.701047845774475/16.568157639890103/0.5783663878513686/0.21052308555596472/2025-09-29 22:06:20.369781+00:00/False\n",
      "\n",
      "2025-09-29 17:06:20,754 - INFO - 2025-Sep-29-17:06:20, ANTES de conversión:\n",
      "\n",
      "2025-09-29 17:06:20,759 - INFO - 2025-Sep-29-17:06:20, r2: 0.19282867432091455 (tipo: <class 'float'>)\n",
      "\n",
      "2025-09-29 17:06:20,765 - INFO - 2025-Sep-29-17:06:20, mse: 1909.7815828186697 (tipo: <class 'float'>)\n",
      "\n",
      "2025-09-29 17:06:20,770 - INFO - 2025-Sep-29-17:06:20, Dict[e]['Porc_RM']: 0.5783663878513686 (tipo: <class 'numpy.float64'>)\n",
      "\n",
      "2025-09-29 17:06:20,776 - INFO - 2025-Sep-29-17:06:20, \n",
      "DESPUÉS de conversión:\n",
      "\n",
      "2025-09-29 17:06:20,781 - INFO - 2025-Sep-29-17:06:20, float(r2): 0.19282867432091455 (tipo: <class 'float'>)\n",
      "\n",
      "2025-09-29 17:06:20,781 - INFO - 2025-Sep-29-17:06:20, float(mse): 1909.7815828186697 (tipo: <class 'float'>)\n",
      "\n"
     ]
    },
    {
     "name": "stdout",
     "output_type": "stream",
     "text": [
      "\u001b[1m116/116\u001b[0m \u001b[32m━━━━━━━━━━━━━━━━━━━━\u001b[0m\u001b[37m\u001b[0m \u001b[1m0s\u001b[0m 1ms/step\n"
     ]
    },
    {
     "name": "stderr",
     "output_type": "stream",
     "text": [
      "2025-09-29 17:06:21,154 - INFO - 2025-Sep-29-17:06:21, 245/24/4/0.21795412582563767/1850.3343217265415/43.015512570775456/16.70369193437937/0.5783663878513686/0.21052308555596472/2025-09-29 22:06:20.369781+00:00/False\n",
      "\n",
      "2025-09-29 17:06:21,159 - INFO - 2025-Sep-29-17:06:21, ANTES de conversión:\n",
      "\n",
      "2025-09-29 17:06:21,164 - INFO - 2025-Sep-29-17:06:21, r2: 0.21795412582563767 (tipo: <class 'float'>)\n",
      "\n",
      "2025-09-29 17:06:21,169 - INFO - 2025-Sep-29-17:06:21, mse: 1850.3343217265415 (tipo: <class 'float'>)\n",
      "\n",
      "2025-09-29 17:06:21,174 - INFO - 2025-Sep-29-17:06:21, Dict[e]['Porc_RM']: 0.5783663878513686 (tipo: <class 'numpy.float64'>)\n",
      "\n",
      "2025-09-29 17:06:21,179 - INFO - 2025-Sep-29-17:06:21, \n",
      "DESPUÉS de conversión:\n",
      "\n",
      "2025-09-29 17:06:21,185 - INFO - 2025-Sep-29-17:06:21, float(r2): 0.21795412582563767 (tipo: <class 'float'>)\n",
      "\n",
      "2025-09-29 17:06:21,190 - INFO - 2025-Sep-29-17:06:21, float(mse): 1850.3343217265415 (tipo: <class 'float'>)\n",
      "\n"
     ]
    },
    {
     "name": "stdout",
     "output_type": "stream",
     "text": [
      "\u001b[1m6/6\u001b[0m \u001b[32m━━━━━━━━━━━━━━━━━━━━\u001b[0m\u001b[37m\u001b[0m \u001b[1m0s\u001b[0m 5ms/step \n"
     ]
    },
    {
     "name": "stderr",
     "output_type": "stream",
     "text": [
      "2025-09-29 17:06:21,366 - INFO - 2025-Sep-29-17:06:21, 245/24/3/0.3315443290278255/266.9966388289694/16.34003178788124/7.827374605699019/0.15757328990228012/0.06066775244299674/2025-09-29 22:06:20.369781+00:00/True\n",
      "\n",
      "2025-09-29 17:06:21,370 - INFO - 2025-Sep-29-17:06:21, ANTES de conversión:\n",
      "\n",
      "2025-09-29 17:06:21,374 - INFO - 2025-Sep-29-17:06:21, r2: 0.3315443290278255 (tipo: <class 'float'>)\n",
      "\n",
      "2025-09-29 17:06:21,378 - INFO - 2025-Sep-29-17:06:21, mse: 266.9966388289694 (tipo: <class 'float'>)\n",
      "\n",
      "2025-09-29 17:06:21,382 - INFO - 2025-Sep-29-17:06:21, Dict[e]['Porc_RM']: 0.15757328990228012 (tipo: <class 'numpy.float64'>)\n",
      "\n",
      "2025-09-29 17:06:21,387 - INFO - 2025-Sep-29-17:06:21, \n",
      "DESPUÉS de conversión:\n",
      "\n",
      "2025-09-29 17:06:21,391 - INFO - 2025-Sep-29-17:06:21, float(r2): 0.3315443290278255 (tipo: <class 'float'>)\n",
      "\n",
      "2025-09-29 17:06:21,397 - INFO - 2025-Sep-29-17:06:21, float(mse): 266.9966388289694 (tipo: <class 'float'>)\n",
      "\n"
     ]
    },
    {
     "name": "stdout",
     "output_type": "stream",
     "text": [
      "\u001b[1m6/6\u001b[0m \u001b[32m━━━━━━━━━━━━━━━━━━━━\u001b[0m\u001b[37m\u001b[0m \u001b[1m0s\u001b[0m 5ms/step \n"
     ]
    },
    {
     "name": "stderr",
     "output_type": "stream",
     "text": [
      "2025-09-29 17:06:21,547 - INFO - 2025-Sep-29-17:06:21, 245/24/4/0.4899283730299395/203.73439238680504/14.273555702305051/7.383347941889907/0.15757328990228012/0.06066775244299674/2025-09-29 22:06:20.369781+00:00/True\n",
      "\n",
      "2025-09-29 17:06:21,552 - INFO - 2025-Sep-29-17:06:21, ANTES de conversión:\n",
      "\n",
      "2025-09-29 17:06:21,556 - INFO - 2025-Sep-29-17:06:21, r2: 0.4899283730299395 (tipo: <class 'float'>)\n",
      "\n",
      "2025-09-29 17:06:21,561 - INFO - 2025-Sep-29-17:06:21, mse: 203.73439238680504 (tipo: <class 'float'>)\n",
      "\n",
      "2025-09-29 17:06:21,565 - INFO - 2025-Sep-29-17:06:21, Dict[e]['Porc_RM']: 0.15757328990228012 (tipo: <class 'numpy.float64'>)\n",
      "\n",
      "2025-09-29 17:06:21,569 - INFO - 2025-Sep-29-17:06:21, \n",
      "DESPUÉS de conversión:\n",
      "\n",
      "2025-09-29 17:06:21,575 - INFO - 2025-Sep-29-17:06:21, float(r2): 0.4899283730299395 (tipo: <class 'float'>)\n",
      "\n",
      "2025-09-29 17:06:21,579 - INFO - 2025-Sep-29-17:06:21, float(mse): 203.73439238680504 (tipo: <class 'float'>)\n",
      "\n",
      "2025-09-29 17:06:21,588 - INFO - 2025-Sep-29-17:06:21, Fin insertar nn_stats\n",
      "\n",
      "2025-09-29 17:06:21,592 - INFO - 2025-Sep-29-17:06:21, Inicio insertar nn_proyeccion\n",
      "\n",
      "2025-09-29 17:06:21,670 - INFO - 2025-Sep-29-17:06:21, Fin insertar nn_proyeccion\n",
      "\n",
      "2025-09-29 17:06:21,675 - INFO - 2025-Sep-29-17:06:21, Inicio Ranking proyeccion\n",
      "\n",
      "2025-09-29 17:06:21,867 - INFO - 2025-Sep-29-17:06:21, Fin Ajustar Rank de las proyecciones\n",
      "\n",
      "2025-09-29 17:06:22,108 - INFO - 2025-Sep-29-17:06:22, Fin Actualizar mejor Proyección\n",
      "\n",
      "2025-09-29 17:06:22,143 - INFO - 2025-Sep-29-17:06:22, Inserción en tablas finalizada\n",
      "\n",
      "2025-09-29 17:06:22,149 - INFO - 2025-Sep-29-17:06:22, FIN - Resultados guardados en la BD \n",
      "\n",
      "\n",
      "2025-09-29 17:06:22,153 - INFO - 2025-Sep-29-17:06:22, FIN - Resultados guardados en la BD \n",
      "\n",
      "\n"
     ]
    },
    {
     "name": "stdout",
     "output_type": "stream",
     "text": [
      "CPU times: total: 1.17 s\n",
      "Wall time: 2.11 s\n"
     ]
    }
   ],
   "source": [
    "%%time\n",
    "if not dfCostos.empty:\n",
    "    lprint(\"Inicio - Guardar resultados en la BD\")\n",
    "    dfCostos, ejecucion = fGuardarResultados(Dict, dfCostos, Convocatoria, co)\n",
    "    lprint(\"FIN - Resultados guardados en la BD \\n\")\n",
    "else:\n",
    "    lprint(\"Convocatoria no seleccionada\")"
   ]
  },
  {
   "cell_type": "markdown",
   "metadata": {},
   "source": [
    "### Exportar resultados en Excel, txt y pdf"
   ]
  },
  {
   "cell_type": "code",
   "execution_count": 25,
   "metadata": {
    "scrolled": true
   },
   "outputs": [
    {
     "name": "stderr",
     "output_type": "stream",
     "text": [
      "2025-09-29 17:09:21,222 - INFO - 2025-Sep-29-17:09:21, Inicio - Exportar resultados a Excel y PDF\n",
      "\n",
      "2025-09-29 17:09:21,405 - INFO - 2025-Sep-29-17:09:21, \n",
      "    SELECT\n",
      "    ne.empleo_id,\n",
      "    ne.concurso_ascenso,\n",
      "    ne.asignacion_salarial,\n",
      "    ne.agno,\n",
      "    ne.smmlv,\n",
      "    ne.nivel,\n",
      "    ne.grado,\n",
      "    ne.denominacion,\n",
      "    ne.conv_padre,\n",
      "    ne.conv_nombre,\n",
      "    ne.entidad,\n",
      "    ne.tipo_entidad,\n",
      "    ne.departamento,\n",
      "    ne.municipio,\n",
      "    ne.codigo_dane,\n",
      "    ne.mun_categoria,\n",
      "    ne.vacantes_opec,\n",
      "    ne.vacantes,\n",
      "    ne.reqs_estudio,\n",
      "    ne.experiencia,\n",
      "    ne.sin_experiencia,\n",
      "    \n",
      "        SENA_lento.mun_inscritos SENA_lento_inscritos,\n",
      "        SENA_lento.mun_aprobo_vrm SENA_lento_ins_vrm,\n",
      "        SENA_lento.mun_aprobo_escritas SENA_lento_ins_esc,\n",
      "        SENA_medio.mun_inscritos SENA_medio_inscritos,\n",
      "        SENA_medio.mun_aprobo_vrm SENA_medio_ins_vrm,\n",
      "        SENA_medio.mun_aprobo_escritas SENA_medio_ins_esc,\n",
      "    ne.empleo_id\n",
      "    FROM public.nn_empleo ne\n",
      "     LEFT JOIN public.nn_proyeccion SENA_lento on (ne.ejecucion_id = SENA_lento.ejecucion_id and ne.id = SENA_lento.nn_empleo_id AND SENA_lento.escenario_id = 24 AND SENA_lento.redneuronal_id = 3 AND SENA_lento.ascenso = ne.concurso_ascenso )  LEFT JOIN public.nn_proyeccion SENA_medio on (ne.ejecucion_id = SENA_medio.ejecucion_id and ne.id = SENA_medio.nn_empleo_id AND SENA_medio.escenario_id = 24 AND SENA_medio.redneuronal_id = 4 AND SENA_medio.ascenso = ne.concurso_ascenso ) \n",
      "    WHERE ne.ejecucion_id = 245\n",
      "\n",
      "2025-09-29 17:09:21,410 - INFO - 2025-Sep-29-17:09:21, Tabla de resultados: (5, 28)\n",
      "\n",
      "2025-09-29 17:09:21,684 - INFO - 2025-Sep-29-17:09:21, Excel con los datos creado ./output/Resultados_245_250929_170921.xlsx\n",
      "\n",
      "2025-09-29 17:09:22,529 - INFO - 2025-Sep-29-17:09:22, PDF con las graficas creado ./output/Resultados_245_250929_170921.pdf\n",
      "\n",
      "2025-09-29 17:09:22,566 - INFO - 2025-Sep-29-17:09:22,                             OLS Regression Results                            \n",
      "==============================================================================\n",
      "Dep. Variable:              inscritos   R-squared:                       0.215\n",
      "Model:                            OLS   Adj. R-squared:                  0.215\n",
      "Method:                 Least Squares   F-statistic:                     338.4\n",
      "Date:                Mon, 29 Sep 2025   Prob (F-statistic):          3.69e-194\n",
      "Time:                        17:09:22   Log-Likelihood:                -4731.7\n",
      "No. Observations:                3700   AIC:                             9471.\n",
      "Df Residuals:                    3696   BIC:                             9496.\n",
      "Df Model:                           3                                         \n",
      "Covariance Type:            nonrobust                                         \n",
      "===========================================================================================\n",
      "                              coef    std err          t      P>|t|      [0.025      0.975]\n",
      "-------------------------------------------------------------------------------------------\n",
      "Intercept                   1.4217      0.064     22.333      0.000       1.297       1.547\n",
      "sin_experiencia[T.True]     1.5138      0.080     18.933      0.000       1.357       1.671\n",
      "smmlv                       0.3092      0.015     21.321      0.000       0.281       0.338\n",
      "vacantes_opec               0.1707      0.010     16.294      0.000       0.150       0.191\n",
      "==============================================================================\n",
      "Omnibus:                       87.078   Durbin-Watson:                   1.411\n",
      "Prob(Omnibus):                  0.000   Jarque-Bera (JB):               93.176\n",
      "Skew:                           0.372   Prob(JB):                     5.85e-21\n",
      "Kurtosis:                       3.224   Cond. No.                         25.0\n",
      "==============================================================================\n",
      "\n",
      "Notes:\n",
      "[1] Standard Errors assume that the covariance matrix of the errors is correctly specified.\n",
      "\n",
      "2025-09-29 17:09:22,595 - INFO - 2025-Sep-29-17:09:22,                             OLS Regression Results                            \n",
      "==============================================================================\n",
      "Dep. Variable:              inscritos   R-squared:                       0.470\n",
      "Model:                            OLS   Adj. R-squared:                  0.460\n",
      "Method:                 Least Squares   F-statistic:                     47.62\n",
      "Date:                Mon, 29 Sep 2025   Prob (F-statistic):           4.38e-22\n",
      "Time:                        17:09:22   Log-Likelihood:                -178.36\n",
      "No. Observations:                 165   AIC:                             364.7\n",
      "Df Residuals:                     161   BIC:                             377.1\n",
      "Df Model:                           3                                         \n",
      "Covariance Type:            nonrobust                                         \n",
      "===========================================================================================\n",
      "                              coef    std err          t      P>|t|      [0.025      0.975]\n",
      "-------------------------------------------------------------------------------------------\n",
      "Intercept                   0.3489      0.213      1.638      0.103      -0.072       0.770\n",
      "sin_experiencia[T.True]     2.1034      0.725      2.903      0.004       0.673       3.534\n",
      "smmlv                       0.3330      0.043      7.782      0.000       0.248       0.417\n",
      "vacantes_opec               0.0967      0.011      9.065      0.000       0.076       0.118\n",
      "==============================================================================\n",
      "Omnibus:                        1.743   Durbin-Watson:                   1.764\n",
      "Prob(Omnibus):                  0.418   Jarque-Bera (JB):                1.710\n",
      "Skew:                           0.245   Prob(JB):                        0.425\n",
      "Kurtosis:                       2.906   Cond. No.                         90.3\n",
      "==============================================================================\n",
      "\n",
      "Notes:\n",
      "[1] Standard Errors assume that the covariance matrix of the errors is correctly specified.\n",
      "\n"
     ]
    },
    {
     "name": "stdout",
     "output_type": "stream",
     "text": [
      "\u001b[1m116/116\u001b[0m \u001b[32m━━━━━━━━━━━━━━━━━━━━\u001b[0m\u001b[37m\u001b[0m \u001b[1m0s\u001b[0m 2ms/step\n",
      "\u001b[1m116/116\u001b[0m \u001b[32m━━━━━━━━━━━━━━━━━━━━\u001b[0m\u001b[37m\u001b[0m \u001b[1m0s\u001b[0m 2ms/step\n",
      "\u001b[1m6/6\u001b[0m \u001b[32m━━━━━━━━━━━━━━━━━━━━\u001b[0m\u001b[37m\u001b[0m \u001b[1m0s\u001b[0m 16ms/step\n"
     ]
    },
    {
     "name": "stderr",
     "output_type": "stream",
     "text": [
      "2025-09-29 17:09:23,612 - WARNING - 5 out of the last 123 calls to <function TensorFlowTrainer.make_predict_function.<locals>.one_step_on_data_distributed at 0x000001420607A980> triggered tf.function retracing. Tracing is expensive and the excessive number of tracings could be due to (1) creating @tf.function repeatedly in a loop, (2) passing tensors with different shapes, (3) passing Python objects instead of tensors. For (1), please define your @tf.function outside of the loop. For (2), @tf.function has reduce_retracing=True option that can avoid unnecessary retracing. For (3), please refer to https://www.tensorflow.org/guide/function#controlling_retracing and https://www.tensorflow.org/api_docs/python/tf/function for  more details.\n"
     ]
    },
    {
     "name": "stdout",
     "output_type": "stream",
     "text": [
      "\u001b[1m6/6\u001b[0m \u001b[32m━━━━━━━━━━━━━━━━━━━━\u001b[0m\u001b[37m\u001b[0m \u001b[1m0s\u001b[0m 16ms/step\n"
     ]
    },
    {
     "name": "stderr",
     "output_type": "stream",
     "text": [
      "2025-09-29 17:09:23,714 - INFO - 2025-Sep-29-17:09:23, Archivo exportado: ./output/Resultados_245_250929_170921.txt\n",
      "\n",
      "2025-09-29 17:09:23,739 - INFO - 2025-Sep-29-17:09:23, Se han adjuntado 3 archivos al archivo ZIP: ./output/Resultados_245_250929_170921.zip\n",
      "\n",
      "2025-09-29 17:09:23,744 - INFO - 2025-Sep-29-17:09:23, FIN - Resultados en Excel y PDF ./output/Resultados_245_250929_170921\n",
      "\n",
      "2025-09-29 17:09:23,749 - INFO - 2025-Sep-29-17:09:23, FIN del Pipeline\n",
      "\n"
     ]
    },
    {
     "name": "stdout",
     "output_type": "stream",
     "text": [
      "CPU times: total: 2.39 s\n",
      "Wall time: 2.53 s\n"
     ]
    },
    {
     "data": {
      "image/png": "[encoded data removed]",
      "text/plain": [
       "<Figure size 600x300 with 1 Axes>"
      ]
     },
     "metadata": {},
     "output_type": "display_data"
    },
    {
     "data": {
      "image/png": "[encoded data removed]",
      "text/plain": [
       "<Figure size 600x300 with 1 Axes>"
      ]
     },
     "metadata": {},
     "output_type": "display_data"
    },
    {
     "data": {
      "image/png": "[encoded data removed]",
      "text/plain": [
       "<Figure size 600x300 with 1 Axes>"
      ]
     },
     "metadata": {},
     "output_type": "display_data"
    },
    {
     "data": {
      "image/png": "[encoded data removed]",
      "text/plain": [
       "<Figure size 600x300 with 1 Axes>"
      ]
     },
     "metadata": {},
     "output_type": "display_data"
    },
    {
     "data": {
      "image/png": "[encoded data removed]",
      "text/plain": [
       "<Figure size 400x400 with 1 Axes>"
      ]
     },
     "metadata": {},
     "output_type": "display_data"
    },
    {
     "data": {
      "image/png": "[encoded data removed]",
      "text/plain": [
       "<Figure size 400x400 with 1 Axes>"
      ]
     },
     "metadata": {},
     "output_type": "display_data"
    }
   ],
   "source": [
    "%%time\n",
    "# ### Exportar resultados en Excel, PDF, texto\n",
    "if not dfCostos.empty:\n",
    "    lprint(\"Inicio - Exportar resultados a Excel y PDF\")\n",
    "    nombre = load_config()['output_dir'] + 'Resultados_' + str(ejecucion)+\"_\"+time.strftime(\"%y%m%d_%H%M%S\")\n",
    "    fResultadosExcel(ejecucion, nombre)\n",
    "    fResultadosGraficas(Dict, dfEmpleo, nombre)\n",
    "    fResultadosTexto(Dict, nombre)\n",
    "    rArchivoZip(nombre)\n",
    "    lprint(f\"FIN - Resultados en Excel y PDF {nombre}\")\n",
    "else:\n",
    "    lprint(\"Convocatoria no seleccionada\")\n",
    "lprint(\"FIN del Pipeline\")"
   ]
  },
  {
   "cell_type": "code",
   "execution_count": null,
   "metadata": {},
   "outputs": [],
   "source": []
  },
  {
   "cell_type": "code",
   "execution_count": null,
   "metadata": {},
   "outputs": [],
   "source": [
    "base0 = Dict['Escena61']['dfModelo']\n",
    "base1 = pd.concat([Dict['Escena61']['DatosX'], pd.DataFrame(Dict['Escena61']['DatosY'], columns=['inscritos'])], axis=1)\n",
    "base2 = pd.DataFrame(Dict['Escena61']['X'], columns=['smmlv', 'vacantes', 'concurso_ascenso_False', 'concurso_ascenso_True',\n",
    "       'reqs_estudio', 'reqs_estudio_DOCTORADO',\n",
    "       'reqs_estudio_ESPECIALIZACION PROFESIONAL', 'reqs_estudio_MAESTRIA',\n",
    "       'reqs_estudio_PROFESIONAL', 'reqs_estudio_TECNICO PROFESIONAL',\n",
    "       'reqs_estudio_TECNOLOGICO', 'nivel', 'nivel_ASISTENCIAL',\n",
    "       'nivel_PROFESIONAL', 'nivel_TECNICO'])\n",
    "\n",
    "with pd.ExcelWriter(\"EjemploDatos.xlsx\", engine=\"xlsxwriter\") as writer:\n",
    "    base0.to_excel(writer, sheet_name=\"BASE0\", index=False)\n",
    "    base1.to_excel(writer, sheet_name=\"BASE1\", index=False)\n",
    "    base2.to_excel(writer, sheet_name=\"BASE2\", index=False)\n",
    "    pd.DataFrame(Dict['Escena61']['Y']).to_excel(writer, sheet_name=\"Y\", index=False)"
   ]
  },
  {
   "cell_type": "markdown",
   "metadata": {},
   "source": [
    "# \n",
    "# \n",
    "### Convocatorias por Excel"
   ]
  },
  {
   "cell_type": "markdown",
   "metadata": {},
   "source": [
    "#### Min Trabajo"
   ]
  },
  {
   "cell_type": "code",
   "execution_count": null,
   "metadata": {},
   "outputs": [],
   "source": [
    "carpeta = r\"D:\\OneDrive - COMISIÓN NACIONAL DEL SERVICIO CIVIL\\B.ProyeccionRedesNeuronales\\Pruebas MinTrabajo\\\\\"\n",
    "filtro = \"Reporte OPEC 4.0 Ministerio de trabajo 13-03-2024.xlsx\"\n",
    "dfExcel = fLeerExcel(carpeta,filtro,'BASE',0)\n",
    "dfExcel.tail(3)"
   ]
  },
  {
   "cell_type": "code",
   "execution_count": null,
   "metadata": {
    "scrolled": true
   },
   "outputs": [],
   "source": [
    "# dfConv = dfExcel[['no_emp_simo','vacantes','municipio']]\n",
    "# dfConv = dfConv.rename(columns={'no_emp_simo':'empleo_id','municipio':'cod_dane'})\n",
    "# dfConv = dfConv.groupby(['empleo_id']).sum()[['vacantes']].reset_index()\n",
    "# dfConv"
   ]
  },
  {
   "cell_type": "code",
   "execution_count": null,
   "metadata": {},
   "outputs": [],
   "source": [
    "dfCostos = bdConvocatoriaExcel(dfExcel)\n",
    "dfCostos = dfCostos.rename(columns={'cod_dane':'dane_entidad','xcod_dane':'cod_dane'})\n",
    "\n",
    "dfMuni = bdMunicipio()\n",
    "dfMuni = dfMuni.rename(columns={'categoria':'mun_categoria'})\n",
    "dfMuni = dfMuni[['cod_dane','mun_categoria']]\n",
    "\n",
    "dfCostos = pd.merge(dfCostos,dfMuni,on='cod_dane',how='left')"
   ]
  },
  {
   "cell_type": "markdown",
   "metadata": {
    "jp-MarkdownHeadingCollapsed": true
   },
   "source": [
    "# \n",
    "# \n",
    "## Anteriores Convocatorias"
   ]
  },
  {
   "cell_type": "markdown",
   "metadata": {},
   "source": [
    "#### Contraloria por excel"
   ]
  },
  {
   "cell_type": "code",
   "execution_count": null,
   "metadata": {},
   "outputs": [],
   "source": [
    "carpeta = r\"D:\\OneDrive - COMISIÓN NACIONAL DEL SERVICIO CIVIL\\C.Costos_ProyeccionRedesNeuronales\\Pruebas Contralorias\\\\\"\n",
    "filtro = \"Contralorias_20230620.xlsx\"\n",
    "dfConv = fLeer_excel(carpeta,filtro,'BASE',0)"
   ]
  },
  {
   "cell_type": "markdown",
   "metadata": {},
   "source": [
    "#### EON noviembre"
   ]
  },
  {
   "cell_type": "code",
   "execution_count": null,
   "metadata": {},
   "outputs": [],
   "source": [
    "carpeta = r\"D:\\OneDrive - COMISIÓN NACIONAL DEL SERVICIO CIVIL\\C.Costos_ProyeccionRedesNeuronales\\Pruebas EON\\\\\"\n",
    "filtro = \"2. OPEC ENTIDADES ORDEN NACIONAL 31102023 - CON MINTIC.xlsx\"\n",
    "dfConv = fLeer_excel(carpeta,filtro,'EON',0)"
   ]
  },
  {
   "cell_type": "markdown",
   "metadata": {},
   "source": [
    "#### Neiva"
   ]
  },
  {
   "cell_type": "code",
   "execution_count": null,
   "metadata": {},
   "outputs": [],
   "source": [
    "carpeta = r\"D:\\OneDrive - COMISIÓN NACIONAL DEL SERVICIO CIVIL\\C.Costos_ProyeccionRedesNeuronales\\Pruebas Neiva\\\\\"\n",
    "filtro = \"2023-06-01_Reporte OPEC Neiva GLPI.xlsx\"\n",
    "dfConv = fLeer_excel(carpeta,filtro,'BASE',0)"
   ]
  },
  {
   "cell_type": "markdown",
   "metadata": {},
   "source": [
    "#### Aeronautica (Excel)"
   ]
  },
  {
   "cell_type": "code",
   "execution_count": null,
   "metadata": {},
   "outputs": [],
   "source": [
    "carpeta = r\"D:\\OneDrive - COMISIÓN NACIONAL DEL SERVICIO CIVIL\\C.Costos_ProyeccionRedesNeuronales\\Pruebas Aerocivil\\\\\"\n",
    "filtro = \"BaseAeronauticaCivil.xlsx\"\n",
    "dfCostos = fLeer_excel(carpeta,filtro,'BASE',0)"
   ]
  },
  {
   "cell_type": "markdown",
   "metadata": {},
   "source": [
    "#### DIAN (Excel)"
   ]
  },
  {
   "cell_type": "code",
   "execution_count": null,
   "metadata": {},
   "outputs": [],
   "source": [
    "carpeta = r\"D:\\OneDrive - COMISIÓN NACIONAL DEL SERVICIO CIVIL\\C.Costos_ProyeccionRedesNeuronales\\Prueba DIAN\\\\\"\n",
    "cArchivo = \"opec.xlsx\"\n",
    "dfCostos = fLeer_excel(carpeta,cArchivo,'BASE',0)"
   ]
  },
  {
   "cell_type": "markdown",
   "metadata": {},
   "source": [
    "#### CNSC (Excel)"
   ]
  },
  {
   "cell_type": "code",
   "execution_count": null,
   "metadata": {},
   "outputs": [],
   "source": [
    "carpeta = r\"D:\\OneDrive - COMISIÓN NACIONAL DEL SERVICIO CIVIL\\C.Costos_ProyeccionRedesNeuronales\\Pruebas CNSC\\\\\"\n",
    "filtro = \"EmpleosCNSC.xlsx\"\n",
    "dfConv = fLeer_excel(carpeta,filtro,'BASE',0)"
   ]
  },
  {
   "cell_type": "markdown",
   "metadata": {},
   "source": [
    "#### Combinar con Experiencia y municipios"
   ]
  },
  {
   "cell_type": "code",
   "execution_count": null,
   "metadata": {},
   "outputs": [],
   "source": [
    "dfExp2 = bdEmpleoExperiencia()\n",
    "dfCostos = pd.merge(dfCostos,dfExp2, on = 'empleo_id', how= 'inner')\n",
    "\n",
    "dfMuni = bdMunicipio()\n",
    "dfMuni = dfMuni.rename(columns={'categoria':'mun_categoria'})\n",
    "dfMuni = dfMuni[['cod_dane','mun_categoria']]\n",
    "\n",
    "dfCostos = pd.merge(dfCostos,dfMuni,on='cod_dane',how='left')"
   ]
  },
  {
   "cell_type": "markdown",
   "metadata": {},
   "source": [
    "#### Proyección Distrito 6"
   ]
  },
  {
   "cell_type": "code",
   "execution_count": null,
   "metadata": {},
   "outputs": [],
   "source": [
    "%%time\n",
    "empleos = dfExcel['empleo_id'].to_list()\n",
    "filtro = f\" empleo_id in ({', '.join(map(str, empleos))}) \"\n",
    "if True:\n",
    "    dfConv = bdConvocatoriaSimo(filtro)\n",
    "    dfExp2 = bdEmpleoExperiencia()\n",
    "    dfCostos = pd.merge(dfConv,dfExp2, on = 'empleo_id', how= 'inner')"
   ]
  },
  {
   "cell_type": "markdown",
   "metadata": {},
   "source": [
    "#### Proyección de  (Distrito 5)"
   ]
  },
  {
   "cell_type": "code",
   "execution_count": null,
   "metadata": {
    "scrolled": true
   },
   "outputs": [],
   "source": [
    "if False:\n",
    "    i = dfCostos[dfCostos['cod_dane']!=11001.0].index[0]\n",
    "    dfCostos.loc[i,'cod_dane'] = 11001.0\n",
    "    dfCostos.loc[i,'mun_categoria'] = 7\n",
    "    print(i)\n",
    "    dfCostos.loc[i]"
   ]
  },
  {
   "cell_type": "markdown",
   "metadata": {},
   "source": [
    "#### Convocatoria Superintendencias"
   ]
  },
  {
   "cell_type": "code",
   "execution_count": null,
   "metadata": {},
   "outputs": [],
   "source": [
    "%%time\n",
    "filtro = \"\"\" conv_id in (542826305,542826475,544389377,544389630,555496146,555697417,555697586,562145401,562145491,645785181,651454242,651454463,660546105,660546305)\n",
    "\"\"\"\n",
    "dfConv = bdConvocatoriaSimo(filtro)\n",
    "dfExp2 = bdEmpleoExperiencia()\n",
    "dfCostos = pd.merge(dfConv,dfExp2, on = 'empleo_id', how= 'inner')\n"
   ]
  },
  {
   "cell_type": "markdown",
   "metadata": {},
   "source": [
    "#### Corregir Municipio No Aplica"
   ]
  },
  {
   "cell_type": "code",
   "execution_count": null,
   "metadata": {},
   "outputs": [],
   "source": [
    "dfCostos[dfCostos['municipio']=='No_Aplica']"
   ]
  },
  {
   "cell_type": "code",
   "execution_count": null,
   "metadata": {},
   "outputs": [],
   "source": [
    "if True:\n",
    "    datosMun = [[660729334,19001,2],[661940241,52001,1],[660729360,5001,0],\n",
    "                [645791377,70001,2],[660729266,70001,2],[661938903,70001,2]]\n",
    "    for dm in datosMun:\n",
    "        i = dfCostos[dfCostos['vac_id']==dm[0]].index[0]\n",
    "        dfCostos.loc[i,'cod_dane'] = dm[1]\n",
    "        dfCostos.loc[i,'mun_categoria'] = dm[2]"
   ]
  },
  {
   "cell_type": "markdown",
   "metadata": {},
   "source": [
    "# \n",
    "# \n",
    "# "
   ]
  },
  {
   "cell_type": "code",
   "execution_count": null,
   "metadata": {},
   "outputs": [],
   "source": [
    "# model.evaluate(test_data, test_targets, verbose= 0)\n",
    "\n",
    "# resultado = model.predict(test_data[0:5]).flatten()\n",
    "# pd.DataFrame(resultado.astype(int), columns=['Res']) "
   ]
  },
  {
   "cell_type": "code",
   "execution_count": null,
   "metadata": {},
   "outputs": [],
   "source": [
    "import matplotlib.pyplot as plt\n",
    "from matplotlib.backends.backend_pdf import PdfPages\n",
    "import time\n",
    "import sys\n",
    "import seaborn as sns\n",
    "import statsmodels.formula.api as sm\n",
    "from sklearn.metrics import r2_score, mean_squared_error, mean_absolute_error, mean_squared_log_error\n",
    "from math import sqrt, isnan"
   ]
  },
  {
   "cell_type": "code",
   "execution_count": null,
   "metadata": {},
   "outputs": [],
   "source": [
    "import gc\n",
    "gc.collect()"
   ]
  },
  {
   "cell_type": "markdown",
   "metadata": {},
   "source": [
    "## Visualización de resultados"
   ]
  },
  {
   "cell_type": "code",
   "execution_count": null,
   "metadata": {},
   "outputs": [],
   "source": [
    "for e in Dict:\n",
    "    print(e)\n",
    "\n",
    "escena = list(Dict.keys())[0]\n",
    "Dict[escena]['dfModelo'].tail()"
   ]
  },
  {
   "cell_type": "markdown",
   "metadata": {},
   "source": [
    "#### Descripción de resultados"
   ]
  },
  {
   "cell_type": "code",
   "execution_count": null,
   "metadata": {
    "scrolled": true
   },
   "outputs": [],
   "source": [
    "#dfModelo['inscritos'] = np.where(( dfModelo['inscritos'].mean() < dfModelo['inscritos']),1,dfModelo.inscritos)\n",
    "#dfModelo['inscritos'] = round((dfModelo['inscritos'] / maximo)*100)"
   ]
  },
  {
   "cell_type": "markdown",
   "metadata": {},
   "source": [
    "#### Evaluación de Datos de Prueba y de Entrenamiento"
   ]
  },
  {
   "cell_type": "code",
   "execution_count": null,
   "metadata": {
    "scrolled": true
   },
   "outputs": [],
   "source": [
    "for e in Dict:\n",
    "    for i, hist in enumerate(Dict[e]['Historico']):\n",
    "        print(\"\\n\",Dict[e]['Filtro'],\" - # Neuronas: \")\n",
    "        print(\"Evaluar datos de Prueba:\")\n",
    "        print(hist['model'].evaluate(Dict[e]['test_data'], Dict[e]['test_targets']),\"\\n\")\n",
    "        print(\"Evaluar datos de Entrenamiento:\")\n",
    "        print(hist['model'].evaluate(Dict[e]['train_data'], Dict[e]['train_targets']),\"\\n\")"
   ]
  },
  {
   "cell_type": "code",
   "execution_count": null,
   "metadata": {
    "scrolled": true
   },
   "outputs": [],
   "source": [
    "dfCorr = dfEmpleo\n",
    "plt.figure(figsize=(8,8))\n",
    "sns.set(font_scale=1)\n",
    "etiquetas = dfCorr.corr().columns.tolist()\n",
    "hm = sns.heatmap(dfCorr.corr().to_numpy(),\n",
    "                 cbar=False,\n",
    "                 annot=True,\n",
    "                 square=True,\n",
    "                 fmt='.2f',\n",
    "                 annot_kws={'size': 10},\n",
    "                 yticklabels=etiquetas,\n",
    "                 xticklabels=etiquetas)\n",
    "hm.set_title('SIMO', fontsize =12)"
   ]
  },
  {
   "cell_type": "code",
   "execution_count": null,
   "metadata": {
    "scrolled": true
   },
   "outputs": [],
   "source": [
    "for e in Dict:\n",
    "    etiquetas = Dict[e]['dfModelo'].columns.tolist()\n",
    "    dfCorr = Dict[e]['dfModelo']\n",
    "    plt.figure(figsize=(3,3))\n",
    "    sns.set(font_scale=1)\n",
    "    hm = sns.heatmap(dfCorr.corr().to_numpy(),\n",
    "                     cbar=False,\n",
    "                     annot=True,\n",
    "                     square=True,\n",
    "                     fmt='.2f',\n",
    "                     annot_kws={'size': 10},\n",
    "                     yticklabels=etiquetas,\n",
    "                     xticklabels=etiquetas)\n",
    "    hm.set_title(Dict[e]['Filtro'], fontsize =16)"
   ]
  },
  {
   "cell_type": "code",
   "execution_count": null,
   "metadata": {},
   "outputs": [],
   "source": [
    "miRango = dfEmpleo[['entidad','nivel','municipio','va_inscritos','vacantes','mun_categoria']]\n",
    "miRango = miRango[~miRango['nivel'].isin(['Instructor','Directivo'])]\n",
    "miRango = miRango[miRango['va_inscritos'].between(miRango['va_inscritos'].quantile(0), miRango['va_inscritos'].quantile(0.95), inclusive = True)]\n",
    "sns.pairplot(miRango, hue = str('mun_categoria'))\n",
    "print(miRango.shape)"
   ]
  },
  {
   "cell_type": "code",
   "execution_count": null,
   "metadata": {},
   "outputs": [],
   "source": [
    "for e in Dict:\n",
    "    miRango = Dict[e]['dfEscenario'][['smmlv','nivel','vacantes','va_inscritos']]\n",
    "    miRango = miRango[miRango['va_inscritos'].between(miRango['va_inscritos'].quantile(0), miRango['va_inscritos'].quantile(1), inclusive = True)]\n",
    "    sns.pairplot(miRango, hue = 'nivel')\n",
    "    print(Dict[e]['Filtro'], miRango.shape)"
   ]
  },
  {
   "cell_type": "code",
   "execution_count": null,
   "metadata": {
    "scrolled": true
   },
   "outputs": [],
   "source": [
    "for e in Dict:\n",
    "    miRango = Dict[e]['dfEscenario'][['smmlv','nivel','vacantes','va_inscritos']]\n",
    "    miRango = miRango[~miRango['nivel'].isin(['Instructor','Directivo'])]\n",
    "    miRango = miRango[miRango['va_inscritos'].between(miRango['va_inscritos'].quantile(0.05), miRango['va_inscritos'].quantile(0.95), inclusive = True)]\n",
    "    sns.pairplot(miRango, hue = 'nivel')\n",
    "    print(Dict[e]['Filtro'],miRango.shape)"
   ]
  },
  {
   "cell_type": "markdown",
   "metadata": {},
   "source": [
    "##### Total de inscritos por Tipo de Entidad"
   ]
  },
  {
   "cell_type": "code",
   "execution_count": null,
   "metadata": {
    "scrolled": true
   },
   "outputs": [],
   "source": [
    "plt.figure(figsize=(6,4))\n",
    "dfPlot = dfEmpleo.groupby('tipo_entidad')['va_inscritos'].sum().sort_values()\n",
    "dfPlot.plot.pie(title='Inscritos por Tipo de Entidad');"
   ]
  },
  {
   "cell_type": "code",
   "execution_count": null,
   "metadata": {},
   "outputs": [],
   "source": [
    "pd.DataFrame(dfPlot).sort_values(by=['va_inscritos'], ascending=False).reset_index()"
   ]
  },
  {
   "cell_type": "markdown",
   "metadata": {},
   "source": [
    "#### Percentiles de inscritos por categoria del municipio"
   ]
  },
  {
   "cell_type": "code",
   "execution_count": null,
   "metadata": {
    "scrolled": true
   },
   "outputs": [],
   "source": [
    "for e in Dict:\n",
    "    plt.figure(figsize=(5,4))\n",
    "    plt.title(\"Inscritos por categoria del municipio - \" + Dict[e]['Filtro'])\n",
    "    sns.boxplot(x='mun_categoriaF',y='va_inscritos', \n",
    "            data = Dict[e]['dfModelo'][Dict[e]['dfModelo']['va_inscritos'] \n",
    "                                             < Dict[e]['dfModelo']['va_inscritos'].quantile(0.95)])\n",
    "    plt.show()"
   ]
  },
  {
   "cell_type": "markdown",
   "metadata": {},
   "source": [
    "#### Total de inscritos por Nivel del cargo"
   ]
  },
  {
   "cell_type": "code",
   "execution_count": null,
   "metadata": {
    "scrolled": true
   },
   "outputs": [],
   "source": [
    "for e in Dict:\n",
    "    dfPlot = Dict[e]['dfModelo'].groupby('nivelF')['va_inscritos'].sum().sort_values(ascending=False);\n",
    "\n",
    "    plt.xlabel(\"Nivel\")\n",
    "    plt.ylabel(\"# Inscritos\")\n",
    "    plt.title('Total inscritos por nivel - '+ Dict[e]['Filtro'])\n",
    "    #plt.axis(\"off\")\n",
    "    plt.axes().get_xaxis().set_visible(False)\n",
    "    x = np.arange(0,dfPlot.count(),1)\n",
    "    y = dfPlot.to_numpy()\n",
    "    z = dfPlot.index.to_numpy()\n",
    "    plt.bar(x,y)\n",
    "    for i,j,k in zip(x,y,z):\n",
    "        plt.annotate(j, (i,j), textcoords=\"offset points\", xytext=(0,0), ha='center')\n",
    "        plt.annotate(int(k), (i,0), textcoords=\"offset points\", xytext=(0,-25), ha='center', color = 'red')\n",
    "    plt.show()"
   ]
  },
  {
   "cell_type": "markdown",
   "metadata": {},
   "source": [
    "##### Total inscritos por SMMLV del empleo"
   ]
  },
  {
   "cell_type": "code",
   "execution_count": null,
   "metadata": {
    "scrolled": true
   },
   "outputs": [],
   "source": [
    "for e in Dict:\n",
    "    fig = plt.figure(figsize=(8,3))\n",
    "    plt.plot(Dict[e]['X'][:,4], Dict[e]['Y'], '.')\n",
    "    plt.title('Total inscritos por SMMLV - '+Dict[e]['Filtro'])\n",
    "    plt.xlabel('SMMLV')\n",
    "    plt.ylabel('# Inscritos')\n",
    "    plt.legend(['empleo'], loc='upper right')\n",
    "    plt.show()"
   ]
  },
  {
   "cell_type": "markdown",
   "metadata": {},
   "source": [
    "##### Total Inscritos por Vacantes del empleo"
   ]
  },
  {
   "cell_type": "code",
   "execution_count": null,
   "metadata": {
    "scrolled": true
   },
   "outputs": [],
   "source": [
    "for e in Dict:\n",
    "    fig = plt.figure(figsize=(8,3))\n",
    "    plt.plot(Dict[e]['X'][:,4], Dict[e]['Y'], '.')\n",
    "    plt.title('Total Inscritos por Vacantes del empleo - '+Dict[e]['Filtro'])\n",
    "    plt.xlabel('Vacantes')\n",
    "    plt.ylabel('# Inscritos')\n",
    "    plt.legend(['empleo'], loc='upper right')\n",
    "    plt.show()"
   ]
  },
  {
   "cell_type": "markdown",
   "metadata": {},
   "source": [
    "#### Inicio de la lista de OPEC"
   ]
  },
  {
   "cell_type": "markdown",
   "metadata": {},
   "source": [
    "##### ver diccionarios"
   ]
  },
  {
   "cell_type": "code",
   "execution_count": null,
   "metadata": {
    "scrolled": true
   },
   "outputs": [],
   "source": [
    "dfS = dfEmpleo[['smmlv']]\n",
    "dfS['smmlv2'] = pd.Series(list(map(lambda x: x * 2, dfEmpleo['smmlv'])))\n",
    "dfS"
   ]
  },
  {
   "cell_type": "code",
   "execution_count": null,
   "metadata": {
    "scrolled": true
   },
   "outputs": [],
   "source": [
    "Escena = list(Dict.keys())[0]\n",
    "\n",
    "print(Dict[Escena].keys(),'\\n')\n",
    "#dict_keys(['dfEscenario', 'Filtro', 'Ascenso', 'dfmun_categoria', 'dfnivel', 'dfdeno_nombre', 'dfModelo', 'dataModelo', 'entradas',\n",
    "#'X', 'Y', 'train_data', 'test_data', 'train_targets', 'test_targets', 'Limites', 'num_val_samples', 'Historico'])\n",
    "\n",
    "print(Dict[Escena]['Historico'][0].keys(),'\\n')\n",
    "#dict_keys(['red', 'model', 'hist', 'mae', 'vmae', 'loss', 'vloss'])\n",
    "\n",
    "print(Dict[Escena]['Historico'][0]['red'],'\\n')\n",
    "#[neuronas,learnR,DropOut,epochs,batch]\n"
   ]
  },
  {
   "cell_type": "markdown",
   "metadata": {},
   "source": [
    "# \n",
    "# \n",
    "# "
   ]
  },
  {
   "cell_type": "markdown",
   "metadata": {},
   "source": [
    "# Visualización geografica "
   ]
  },
  {
   "cell_type": "code",
   "execution_count": null,
   "metadata": {},
   "outputs": [],
   "source": [
    "#librerias de graficos\n",
    "import seaborn as sns\n",
    "import matplotlib.pyplot as plt\n",
    "\n",
    "#librerias de geografia\n",
    "from geopy.geocoders import Nominatim\n",
    "import folium\n",
    "#import pyspark"
   ]
  },
  {
   "cell_type": "code",
   "execution_count": null,
   "metadata": {},
   "outputs": [],
   "source": [
    "address = 'Colombia'\n",
    "geolocator = Nominatim(user_agent=\"ny_explorer\")\n",
    "location = geolocator.geocode(address)\n",
    "latitude = location.latitude\n",
    "longitude = location.longitude\n",
    "print('The geograpical coordinate of ',address,' are {}, {}.'.format(latitude, longitude))"
   ]
  },
  {
   "cell_type": "code",
   "execution_count": null,
   "metadata": {},
   "outputs": [],
   "source": [
    "query = \"\"\"select codigo codigo_dane, municipio_categoria_id, latitud, longitud, nombre from public.lugar where municipio_categoria_id is not null \"\"\"\n",
    "dfMuni = fConsultaScript(openCosteo()[0],query)\n",
    "dfMuni.head()"
   ]
  },
  {
   "cell_type": "code",
   "execution_count": null,
   "metadata": {},
   "outputs": [],
   "source": [
    "for e in Dict:\n",
    "    print(e, Dict[e]['Filtro'])\n",
    "    print(Dict[e]['dfEscenario'].shape)"
   ]
  },
  {
   "cell_type": "code",
   "execution_count": null,
   "metadata": {
    "scrolled": true
   },
   "outputs": [],
   "source": [
    "dfDane = Dict[escena]['dfEscenario']\n",
    "dfDane = dfDane[['codigo_dane','mun_inscritos']].groupby('codigo_dane').sum('mun_inscritos')\n",
    "dfDane['codigo_dane'] = dfDane.index\n",
    "dfDane.reset_index(level=None, drop=True, inplace=True, col_level=0, col_fill='')"
   ]
  },
  {
   "cell_type": "code",
   "execution_count": null,
   "metadata": {},
   "outputs": [],
   "source": [
    "cifra = int(dfDane['mun_inscritos'].max())\n",
    "cifra = (cifra,int(cifra/2))[int(str(cifra)[0]) > 4]\n",
    "fraccion = 10 ** (len(str(cifra)) -2)\n",
    "print(cifra,fraccion)"
   ]
  },
  {
   "cell_type": "code",
   "execution_count": null,
   "metadata": {},
   "outputs": [],
   "source": [
    "dfMapa = pd.merge(dfMuni,dfDane,on='codigo_dane',how='left')\n",
    "\n",
    "dfMapa = dfMapa.sort_values('mun_inscritos', ascending=False)\n",
    "dfMapa = dfMapa.dropna()\n",
    "dfMapa['Porc'] = round(dfMapa['mun_inscritos'] / int(dfMapa['mun_inscritos'].max()) * 25, 2)\n",
    "dfMapa = dfMapa[dfMapa['Porc'] > 0]\n",
    "dfMapa.reset_index(level=None, drop=True, inplace=True, col_level=0, col_fill='')\n",
    "print(dfMapa.shape)\n",
    "dfMapa.head(3)"
   ]
  },
  {
   "cell_type": "code",
   "execution_count": null,
   "metadata": {},
   "outputs": [],
   "source": [
    "map_colombia = folium.Map(location=[latitude, longitude], zoom_start=6)\n",
    "\n",
    "# add markers to map\n",
    "for lat, lng, label, insc, rdo in zip(dfMapa['latitud'], dfMapa['longitud'], dfMapa['nombre'], dfMapa['mun_inscritos'], dfMapa['Porc']):\n",
    "    label = folium.Popup(str(label)+'-'+str(int(insc)), parse_html=True)\n",
    "    folium.CircleMarker(\n",
    "        [lng, lat],\n",
    "        radius=rdo,\n",
    "        popup=label,\n",
    "        color='black',\n",
    "        fill=True,\n",
    "        fill_color='gold',\n",
    "        fill_opacity=0.5,\n",
    "        parse_html=False).add_to(map_colombia)\n",
    "    \n",
    "map_colombia"
   ]
  },
  {
   "cell_type": "code",
   "execution_count": null,
   "metadata": {},
   "outputs": [],
   "source": [
    "from folium import plugins\n",
    "\n",
    "map_colombia = folium.Map(location=[latitude, longitude], zoom_start=5,width=\"100%\",height=\"100%\")\n",
    "locations = list(zip(dfMapa['longitud'], dfMapa['latitud']))\n",
    "cluster = plugins.MarkerCluster(\n",
    "    locations=locations, \n",
    "    popups=dfMapa[\"mun_inscritos\"].tolist(), \n",
    "    name=dfMapa[\"nombre\"].tolist(), \n",
    "    radius=dfMapa['Porc'].tolist()\n",
    ")\n",
    "map_colombia.add_child(cluster)\n",
    "map_colombia\n",
    "\n",
    "#folium.plugins.MarkerCluster(locations=None, popups=None, icons=None, name=None, overlay=True, \n",
    "#                             control=True, show=True, icon_create_function=None, options=None, **kwargs)"
   ]
  },
  {
   "cell_type": "code",
   "execution_count": null,
   "metadata": {},
   "outputs": [],
   "source": []
  },
  {
   "cell_type": "code",
   "execution_count": null,
   "metadata": {
    "scrolled": true
   },
   "outputs": [],
   "source": []
  },
  {
   "cell_type": "code",
   "execution_count": null,
   "metadata": {},
   "outputs": [],
   "source": []
  },
  {
   "cell_type": "code",
   "execution_count": null,
   "metadata": {},
   "outputs": [],
   "source": []
  },
  {
   "cell_type": "code",
   "execution_count": null,
   "metadata": {},
   "outputs": [],
   "source": [
    "from sklearn.feature_selection import f_regression\n",
    "\n",
    "# Define the target variable\n",
    "filtered_data = dfEmpleo[dfEmpleo['conv_padre_id']==554139239].copy()\n",
    "\n",
    "\n",
    "y_filtered = filtered_data['mun_inscritos']\n",
    "\n",
    "# Exclude specified columns from features\n",
    "excluded_columns = ['inscritos', 'aprobo_vrm', 'aprobo_escritas', 'mun_aprobo_vrm', 'mun_aprobo_escritas', 'mun_inscritos']\n",
    "selected_columns = filtered_data.columns.difference(excluded_columns)\n",
    "\n",
    "# Splitting numerical and categorical features\n",
    "numerical_cols = filtered_data[selected_columns].select_dtypes(include=['float64', 'int64','int32']).columns\n",
    "categorical_cols = filtered_data[selected_columns].select_dtypes(include=['object', 'bool']).columns\n",
    "\n",
    "# Handle numerical columns: calculate correlation with 'mun_inscritos'\n",
    "numerical_corr = filtered_data[numerical_cols].corrwith(y_filtered).sort_values(ascending=False)\n",
    "\n",
    "# Handle categorical columns: encode and evaluate ANOVA F-value\n",
    "X_encoded = pd.get_dummies(filtered_data[categorical_cols], drop_first=True)\n",
    "f_values, p_values = f_regression(X_encoded, y_filtered)\n",
    "\n",
    "# Compile results for categorical variables\n",
    "anova_results_cat = pd.DataFrame({\n",
    "    'Feature': X_encoded.columns,\n",
    "    'F-Value': f_values,\n",
    "    'P-Value': p_values\n",
    "}).sort_values(by='F-Value', ascending=False)\n",
    "\n",
    "# Select the top 4 features based on correlation and F-value\n",
    "top_numerical_features = numerical_corr.index.tolist()  # Top 2 numerical\n",
    "top_categorical_features = anova_results_cat.head(20)['Feature'].tolist()  # Top 2 categorical\n",
    "\n",
    "top_features = top_numerical_features + top_categorical_features\n",
    "top_features\n"
   ]
  },
  {
   "cell_type": "code",
   "execution_count": null,
   "metadata": {},
   "outputs": [],
   "source": [
    "X_encoded = pd.get_dummies(filtered_data[categorical_cols], drop_first=True)"
   ]
  },
  {
   "cell_type": "code",
   "execution_count": null,
   "metadata": {},
   "outputs": [],
   "source": [
    "anova_results_cat = pd.DataFrame({\n",
    "    'Feature': X_encoded.columns,\n",
    "    'F-Value': f_values,\n",
    "    'P-Value': p_values\n",
    "}).sort_values(by='F-Value', ascending=False)"
   ]
  },
  {
   "cell_type": "code",
   "execution_count": null,
   "metadata": {},
   "outputs": [],
   "source": [
    "anova_results_cat"
   ]
  },
  {
   "cell_type": "code",
   "execution_count": null,
   "metadata": {},
   "outputs": [],
   "source": [
    "pd.options.display.max_rows = None"
   ]
  },
  {
   "cell_type": "code",
   "execution_count": null,
   "metadata": {
    "scrolled": true
   },
   "outputs": [],
   "source": [
    "# Re-import necessary libraries for computation as environment might have reset\n",
    "import pandas as pd\n",
    "from sklearn.feature_selection import f_classif\n",
    "\n",
    "# Reload the dataset\n",
    "#file_path = '/mnt/data/nn_simo_20241108.xlsx'\n",
    "#data = pd.read_excel(file_path)\n",
    "\n",
    "# Filter the dataset by 'conv_padre' as per previous instructions\n",
    "filtered_data = dfEmpleo[dfEmpleo['conv_padre'] == \"PROCESO DE SELECCION PARA MUNICIPIOS DE 5ta Y 6ta CATEGORIA\"]\n",
    "\n",
    "# Target variable\n",
    "y_target = filtered_data['mun_inscritos']\n",
    "\n",
    "# Categorical variables for ANOVA evaluation without using get_dummies\n",
    "categorical_cols = [ 'nivel', 'denominacion', 'concurso_ascenso']\n",
    "\n",
    "# Encode the categorical columns by replacing categories with mean 'mun_inscritos' (mean encoding)\n",
    "for col in categorical_cols:\n",
    "    mean_encoded = filtered_data.groupby(col)['mun_inscritos'].mean()\n",
    "    filtered_data[f'{col}_mean_encoded'] = filtered_data[col].map(mean_encoded)\n",
    "\n",
    "# Use the mean encoded columns for ANOVA to evaluate their significance without get_dummies\n",
    "X_encoded = filtered_data[[f'{col}_mean_encoded' for col in categorical_cols]]\n",
    "\n",
    "# Perform ANOVA F-test for these encoded columns against the target\n",
    "f_values, p_values = f_classif(X_encoded, y_target)\n",
    "\n",
    "# Compile results into a DataFrame for analysis\n",
    "anova_results = pd.DataFrame({\n",
    "    'Feature': X_encoded.columns,\n",
    "    'F-Value': f_values,\n",
    "    'P-Value': p_values\n",
    "}).sort_values(by='F-Value', ascending=False)\n",
    "\n",
    "# Display the ANOVA results\n",
    "anova_results\n"
   ]
  },
  {
   "cell_type": "code",
   "execution_count": null,
   "metadata": {},
   "outputs": [],
   "source": [
    "mean_encoded = filtered_data.groupby('denominacion')['mun_inscritos'].mean()\n",
    "filtered_data[f'{'denominacion'}_mean'] = filtered_data['denominacion'].map(mean_encoded)"
   ]
  },
  {
   "cell_type": "code",
   "execution_count": null,
   "metadata": {},
   "outputs": [],
   "source": []
  },
  {
   "cell_type": "code",
   "execution_count": null,
   "metadata": {},
   "outputs": [],
   "source": [
    "from sqlalchemy.types import String"
   ]
  },
  {
   "cell_type": "code",
   "execution_count": null,
   "metadata": {},
   "outputs": [],
   "source": [
    "  lista = fRetornaLista(openCosteo, f\"\"\"select nombre, tipo, id from {openCosteo()[1]}.np_variables where activo \"\"\")\n",
    "\n",
    "  col_mun = ['departamento', 'municipio', 'codigo_dane', 'vacantes', 'mun_inscritos', 'mun_aprobo_vrm', 'mun_aprobo_escritas', 'mun_categoria']\n",
    "  \n",
    "  # si hay una variable de municipio\n",
    "  if any(item in lista[0] for item in col_mun):\n",
    "    df = fConsultaTabla(openCosteo, 'nn_simo')\n",
    "  else:\n",
    "    df = fConsultaTabla(openCosteo, 'nn_simo_unico')\n",
    "    for col in col_mun:\n",
    "      df[col] = None\n",
    "\n",
    "  df = fCorregirTipoDatos(df)[0]\n",
    "\n",
    "  if any(item in lista[0] for item in ['smmlv', 'asignacion_salarial']):\n",
    "    df = df[~pd.isnull(df['smmlv'])]\n",
    "    df.reset_index(drop=True, inplace=True)\n"
   ]
  },
  {
   "cell_type": "code",
   "execution_count": null,
   "metadata": {},
   "outputs": [],
   "source": []
  },
  {
   "cell_type": "code",
   "execution_count": null,
   "metadata": {},
   "outputs": [],
   "source": [
    "import pandas as pd\n",
    "print(pd.__version__)"
   ]
  },
  {
   "cell_type": "code",
   "execution_count": null,
   "metadata": {},
   "outputs": [],
   "source": [
    "import numpy as np\n",
    "print(np.__version__)"
   ]
  },
  {
   "cell_type": "code",
   "execution_count": null,
   "metadata": {},
   "outputs": [],
   "source": []
  },
  {
   "cell_type": "code",
   "execution_count": null,
   "metadata": {},
   "outputs": [],
   "source": []
  }
 ],
 "metadata": {
  "kernelspec": {
   "display_name": "Costos env",
   "language": "python",
   "name": "costos_env"
  },
  "language_info": {
   "codemirror_mode": {
    "name": "ipython",
    "version": 3
   },
   "file_extension": ".py",
   "mimetype": "text/x-python",
   "name": "python",
   "nbconvert_exporter": "python",
   "pygments_lexer": "ipython3",
   "version": "3.12.4"
  }
 },
 "nbformat": 4,
 "nbformat_minor": 4
}
